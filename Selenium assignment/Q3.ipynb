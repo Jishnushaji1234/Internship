{
 "cells": [
  {
   "cell_type": "markdown",
   "id": "850e24c9",
   "metadata": {},
   "source": [
    "We will scrape 4 fields for each job as mentioned below:"
   ]
  },
  {
   "cell_type": "markdown",
   "id": "05f795c9",
   "metadata": {},
   "source": [
    "1.Job title\n",
    "2.company name\n",
    "3.Location of job\n",
    "4.Experience required"
   ]
  },
  {
   "cell_type": "code",
   "execution_count": 1,
   "id": "09b9f596",
   "metadata": {},
   "outputs": [
    {
     "name": "stdout",
     "output_type": "stream",
     "text": [
      "Collecting selenium\n",
      "  Downloading selenium-4.1.3-py3-none-any.whl (968 kB)\n",
      "Requirement already satisfied: urllib3[secure,socks]~=1.26 in c:\\users\\jishn\\anaconda3\\lib\\site-packages (from selenium) (1.26.4)\n",
      "Collecting trio-websocket~=0.9\n",
      "  Downloading trio_websocket-0.9.2-py3-none-any.whl (16 kB)\n",
      "Collecting trio~=0.17\n",
      "  Downloading trio-0.20.0-py3-none-any.whl (359 kB)\n",
      "Requirement already satisfied: cffi>=1.14 in c:\\users\\jishn\\anaconda3\\lib\\site-packages (from trio~=0.17->selenium) (1.14.5)\n",
      "Requirement already satisfied: idna in c:\\users\\jishn\\anaconda3\\lib\\site-packages (from trio~=0.17->selenium) (2.10)\n",
      "Requirement already satisfied: attrs>=19.2.0 in c:\\users\\jishn\\anaconda3\\lib\\site-packages (from trio~=0.17->selenium) (20.3.0)\n",
      "Requirement already satisfied: sniffio in c:\\users\\jishn\\anaconda3\\lib\\site-packages (from trio~=0.17->selenium) (1.2.0)\n",
      "Requirement already satisfied: async-generator>=1.9 in c:\\users\\jishn\\anaconda3\\lib\\site-packages (from trio~=0.17->selenium) (1.10)\n",
      "Requirement already satisfied: sortedcontainers in c:\\users\\jishn\\anaconda3\\lib\\site-packages (from trio~=0.17->selenium) (2.3.0)\n",
      "Collecting outcome\n",
      "  Downloading outcome-1.1.0-py2.py3-none-any.whl (9.7 kB)\n",
      "Requirement already satisfied: pycparser in c:\\users\\jishn\\anaconda3\\lib\\site-packages (from cffi>=1.14->trio~=0.17->selenium) (2.20)\n",
      "Collecting wsproto>=0.14\n",
      "  Downloading wsproto-1.1.0-py3-none-any.whl (24 kB)\n",
      "Requirement already satisfied: PySocks!=1.5.7,<2.0,>=1.5.6 in c:\\users\\jishn\\anaconda3\\lib\\site-packages (from urllib3[secure,socks]~=1.26->selenium) (1.7.1)\n",
      "Requirement already satisfied: cryptography>=1.3.4 in c:\\users\\jishn\\anaconda3\\lib\\site-packages (from urllib3[secure,socks]~=1.26->selenium) (3.4.7)\n",
      "Requirement already satisfied: pyOpenSSL>=0.14 in c:\\users\\jishn\\anaconda3\\lib\\site-packages (from urllib3[secure,socks]~=1.26->selenium) (20.0.1)\n",
      "Requirement already satisfied: certifi in c:\\users\\jishn\\anaconda3\\lib\\site-packages (from urllib3[secure,socks]~=1.26->selenium) (2020.12.5)\n",
      "Requirement already satisfied: six>=1.5.2 in c:\\users\\jishn\\anaconda3\\lib\\site-packages (from pyOpenSSL>=0.14->urllib3[secure,socks]~=1.26->selenium) (1.15.0)\n",
      "Collecting h11<1,>=0.9.0\n",
      "  Downloading h11-0.13.0-py3-none-any.whl (58 kB)\n",
      "Installing collected packages: outcome, h11, wsproto, trio, trio-websocket, selenium\n",
      "Successfully installed h11-0.13.0 outcome-1.1.0 selenium-4.1.3 trio-0.20.0 trio-websocket-0.9.2 wsproto-1.1.0\n"
     ]
    }
   ],
   "source": [
    "#1st install selenium library\n",
    "!pip install selenium"
   ]
  },
  {
   "cell_type": "code",
   "execution_count": 2,
   "id": "1d8a028a",
   "metadata": {},
   "outputs": [],
   "source": [
    "#lets import all required librabries\n",
    "import selenium\n",
    "from selenium import webdriver\n",
    "import pandas as pd\n",
    "import warnings\n",
    "warnings.filterwarnings(\"ignore\")"
   ]
  },
  {
   "cell_type": "code",
   "execution_count": null,
   "id": "498e0485",
   "metadata": {},
   "outputs": [],
   "source": []
  },
  {
   "cell_type": "code",
   "execution_count": 3,
   "id": "fdd6ba9c",
   "metadata": {},
   "outputs": [],
   "source": [
    "#lets first connect to web driver\n",
    "driver=webdriver.Chrome(r'C:/Users/jishn/Downloads/chromedriver_win32/chromedriver.exe')   "
   ]
  },
  {
   "cell_type": "code",
   "execution_count": null,
   "id": "1bfbfc89",
   "metadata": {},
   "outputs": [],
   "source": []
  },
  {
   "cell_type": "code",
   "execution_count": 4,
   "id": "a526929e",
   "metadata": {},
   "outputs": [],
   "source": [
    "driver=webdriver.Chrome('chromedriver.exe')"
   ]
  },
  {
   "cell_type": "code",
   "execution_count": null,
   "id": "515bde23",
   "metadata": {},
   "outputs": [],
   "source": []
  },
  {
   "cell_type": "code",
   "execution_count": 5,
   "id": "914bda2e",
   "metadata": {},
   "outputs": [],
   "source": [
    " url='https://www.naukri.com/'\n",
    "driver.get(url)"
   ]
  },
  {
   "cell_type": "code",
   "execution_count": null,
   "id": "83e35400",
   "metadata": {},
   "outputs": [],
   "source": []
  },
  {
   "cell_type": "code",
   "execution_count": 6,
   "id": "3489fb8d",
   "metadata": {},
   "outputs": [
    {
     "data": {
      "text/plain": [
       "<selenium.webdriver.remote.webelement.WebElement (session=\"f144cb8009d512723f70995f4d3d6979\", element=\"eae05e62-e640-41de-bd0c-66cc3594e09b\")>"
      ]
     },
     "execution_count": 6,
     "metadata": {},
     "output_type": "execute_result"
    }
   ],
   "source": [
    "search_job=driver.find_element_by_class_name(\"suggestor-input \")\n",
    "search_job"
   ]
  },
  {
   "cell_type": "code",
   "execution_count": null,
   "id": "56864e81",
   "metadata": {},
   "outputs": [],
   "source": []
  },
  {
   "cell_type": "code",
   "execution_count": 7,
   "id": "478352e2",
   "metadata": {},
   "outputs": [],
   "source": [
    "#write on search bar\n",
    "search_job.send_keys(\"Data Scientist\")"
   ]
  },
  {
   "cell_type": "code",
   "execution_count": null,
   "id": "d4e1011f",
   "metadata": {},
   "outputs": [],
   "source": []
  },
  {
   "cell_type": "code",
   "execution_count": 8,
   "id": "28883069",
   "metadata": {},
   "outputs": [
    {
     "data": {
      "text/plain": [
       "<selenium.webdriver.remote.webelement.WebElement (session=\"f144cb8009d512723f70995f4d3d6979\", element=\"8c732735-fee7-4e3a-9681-62d1b3909581\")>"
      ]
     },
     "execution_count": 8,
     "metadata": {},
     "output_type": "execute_result"
    }
   ],
   "source": [
    "#finding web elemnt for search locn bar using absolute path\n",
    "search_locn=driver.find_element_by_xpath('/html/body/div/div[2]/div[3]/div/div/div[3]/div/div/div/input')\n",
    "search_locn"
   ]
  },
  {
   "cell_type": "code",
   "execution_count": null,
   "id": "89ed9545",
   "metadata": {},
   "outputs": [],
   "source": []
  },
  {
   "cell_type": "code",
   "execution_count": 9,
   "id": "dd7e0e2a",
   "metadata": {},
   "outputs": [],
   "source": [
    "#finding web element for job location bar\n",
    "search_locn.send_keys(\"Delhi\")"
   ]
  },
  {
   "cell_type": "code",
   "execution_count": null,
   "id": "400a6925",
   "metadata": {},
   "outputs": [],
   "source": []
  },
  {
   "cell_type": "code",
   "execution_count": null,
   "id": "076d8783",
   "metadata": {},
   "outputs": [],
   "source": []
  },
  {
   "cell_type": "code",
   "execution_count": 10,
   "id": "6da7ca18",
   "metadata": {},
   "outputs": [],
   "source": [
    "#clicking using absolute xpath function\n",
    "search_btn=driver.find_element_by_xpath('/html/body/div/div[2]/div[3]/div/div/div[6]')"
   ]
  },
  {
   "cell_type": "code",
   "execution_count": null,
   "id": "a1064b3a",
   "metadata": {},
   "outputs": [],
   "source": []
  },
  {
   "cell_type": "code",
   "execution_count": 11,
   "id": "d94d2286",
   "metadata": {},
   "outputs": [
    {
     "data": {
      "text/plain": [
       "<selenium.webdriver.remote.webelement.WebElement (session=\"f144cb8009d512723f70995f4d3d6979\", element=\"485d6c94-8edd-490e-8382-35798468ee84\")>"
      ]
     },
     "execution_count": 11,
     "metadata": {},
     "output_type": "execute_result"
    }
   ],
   "source": [
    " search_btn"
   ]
  },
  {
   "cell_type": "code",
   "execution_count": null,
   "id": "47b76376",
   "metadata": {},
   "outputs": [],
   "source": []
  },
  {
   "cell_type": "code",
   "execution_count": 12,
   "id": "0316b423",
   "metadata": {},
   "outputs": [],
   "source": [
    "search_btn.click()"
   ]
  },
  {
   "cell_type": "code",
   "execution_count": null,
   "id": "c0f21d52",
   "metadata": {},
   "outputs": [],
   "source": []
  },
  {
   "cell_type": "code",
   "execution_count": 13,
   "id": "c554c610",
   "metadata": {},
   "outputs": [],
   "source": [
    " salary_check=driver.find_element_by_xpath('/html/body/div[1]/div[3]/div[2]/section[1]/div[2]/div[4]/div[2]/div[1]/label/p/span[1]')"
   ]
  },
  {
   "cell_type": "code",
   "execution_count": null,
   "id": "c737b77b",
   "metadata": {},
   "outputs": [],
   "source": []
  },
  {
   "cell_type": "code",
   "execution_count": null,
   "id": "0bbd8ca8",
   "metadata": {},
   "outputs": [],
   "source": []
  },
  {
   "cell_type": "code",
   "execution_count": 14,
   "id": "4b5db199",
   "metadata": {},
   "outputs": [],
   "source": [
    "salary_check.click()"
   ]
  },
  {
   "cell_type": "code",
   "execution_count": null,
   "id": "10737f35",
   "metadata": {},
   "outputs": [],
   "source": []
  },
  {
   "cell_type": "markdown",
   "id": "57fa9a94",
   "metadata": {},
   "source": [
    "Extracting Job titles"
   ]
  },
  {
   "cell_type": "code",
   "execution_count": 19,
   "id": "1bd1bc4a",
   "metadata": {},
   "outputs": [],
   "source": [
    "#lets extract all web elements having job titles\n",
    "title_tags=driver.find_elements_by_xpath('//a[@class=\"title fw500 ellipsis\"]')"
   ]
  },
  {
   "cell_type": "code",
   "execution_count": 21,
   "id": "fb2706d7",
   "metadata": {},
   "outputs": [
    {
     "data": {
      "text/plain": [
       "20"
      ]
     },
     "execution_count": 21,
     "metadata": {},
     "output_type": "execute_result"
    }
   ],
   "source": [
    "len(title_tags)"
   ]
  },
  {
   "cell_type": "code",
   "execution_count": 22,
   "id": "f7782a04",
   "metadata": {},
   "outputs": [
    {
     "data": {
      "text/plain": [
       "[<selenium.webdriver.remote.webelement.WebElement (session=\"28f5e093716b46ceb14d9b720fb60f33\", element=\"629819a8-969d-4f6e-ada8-662180fd1bbf\")>,\n",
       " <selenium.webdriver.remote.webelement.WebElement (session=\"28f5e093716b46ceb14d9b720fb60f33\", element=\"84372260-fc2b-4a7f-881b-176946c22e23\")>]"
      ]
     },
     "execution_count": 22,
     "metadata": {},
     "output_type": "execute_result"
    }
   ],
   "source": [
    "title_tags[0:2]"
   ]
  },
  {
   "cell_type": "code",
   "execution_count": null,
   "id": "f3620879",
   "metadata": {},
   "outputs": [],
   "source": []
  },
  {
   "cell_type": "code",
   "execution_count": null,
   "id": "6e467c24",
   "metadata": {},
   "outputs": [],
   "source": [
    "#now the text of job title is inside the web elements extracted above\n"
   ]
  },
  {
   "cell_type": "code",
   "execution_count": 23,
   "id": "babc7cd7",
   "metadata": {},
   "outputs": [
    {
     "data": {
      "text/plain": [
       "['Data Scientist', 'Data Scientist']"
      ]
     },
     "execution_count": 23,
     "metadata": {},
     "output_type": "execute_result"
    }
   ],
   "source": [
    "job_titles=[]\n",
    "\n",
    "for i in title_tags:\n",
    "    job_titles.append(i.text)\n",
    "len(job_titles)\n",
    "job_titles[0:2]"
   ]
  },
  {
   "cell_type": "markdown",
   "id": "b2a70691",
   "metadata": {},
   "source": [
    " Extracting company names"
   ]
  },
  {
   "cell_type": "code",
   "execution_count": 24,
   "id": "90ee717c",
   "metadata": {},
   "outputs": [
    {
     "data": {
      "text/plain": [
       "[<selenium.webdriver.remote.webelement.WebElement (session=\"28f5e093716b46ceb14d9b720fb60f33\", element=\"94c48d75-d20e-409a-ab89-8f9b7953dc30\")>,\n",
       " <selenium.webdriver.remote.webelement.WebElement (session=\"28f5e093716b46ceb14d9b720fb60f33\", element=\"a90d69a8-f8b4-4b35-982e-741138e69ede\")>]"
      ]
     },
     "execution_count": 24,
     "metadata": {},
     "output_type": "execute_result"
    }
   ],
   "source": [
    "company_tags=driver.find_elements_by_xpath('//a[@class=\"subTitle ellipsis fleft\"]')\n",
    "company_tags[0:2]"
   ]
  },
  {
   "cell_type": "code",
   "execution_count": 25,
   "id": "52d4e000",
   "metadata": {},
   "outputs": [
    {
     "data": {
      "text/plain": [
       "['Korea Trade Center', 'Genpact']"
      ]
     },
     "execution_count": 25,
     "metadata": {},
     "output_type": "execute_result"
    }
   ],
   "source": [
    "comapany_names=[]\n",
    "\n",
    "for i in company_tags:\n",
    "    comapany_names.append(i.text)\n",
    "comapany_names[0:2]"
   ]
  },
  {
   "cell_type": "markdown",
   "id": "30b2260d",
   "metadata": {},
   "source": [
    "Extracting Experience"
   ]
  },
  {
   "cell_type": "code",
   "execution_count": 26,
   "id": "2d772b83",
   "metadata": {},
   "outputs": [],
   "source": [
    "exp_tags=driver.find_elements_by_xpath('//li[@class=\"fleft grey-text br2 placeHolderLi experience\"]')"
   ]
  },
  {
   "cell_type": "code",
   "execution_count": 27,
   "id": "b51133c5",
   "metadata": {},
   "outputs": [
    {
     "data": {
      "text/plain": [
       "20"
      ]
     },
     "execution_count": 27,
     "metadata": {},
     "output_type": "execute_result"
    }
   ],
   "source": [
    "len(exp_tags)"
   ]
  },
  {
   "cell_type": "code",
   "execution_count": 28,
   "id": "e0167412",
   "metadata": {},
   "outputs": [
    {
     "data": {
      "text/plain": [
       "['3-4 Yrs', '6-10 Yrs']"
      ]
     },
     "execution_count": 28,
     "metadata": {},
     "output_type": "execute_result"
    }
   ],
   "source": [
    "experience=[]\n",
    "\n",
    "for i in exp_tags:\n",
    "    experience.append(i.text)\n",
    "    \n",
    "experience[0:2]"
   ]
  },
  {
   "cell_type": "markdown",
   "id": "95880545",
   "metadata": {},
   "source": [
    "extracting location"
   ]
  },
  {
   "cell_type": "code",
   "execution_count": 30,
   "id": "9d856317",
   "metadata": {},
   "outputs": [],
   "source": [
    "locn_tags=driver.find_elements_by_xpath('//li[@class=\"fleft grey-text br2 placeHolderLi location\"]')"
   ]
  },
  {
   "cell_type": "code",
   "execution_count": null,
   "id": "ea28a78f",
   "metadata": {},
   "outputs": [],
   "source": []
  },
  {
   "cell_type": "code",
   "execution_count": 31,
   "id": "7a042f24",
   "metadata": {},
   "outputs": [
    {
     "data": {
      "text/plain": [
       "20"
      ]
     },
     "execution_count": 31,
     "metadata": {},
     "output_type": "execute_result"
    }
   ],
   "source": [
    "len(locn_tags)"
   ]
  },
  {
   "cell_type": "code",
   "execution_count": 32,
   "id": "8548b19b",
   "metadata": {},
   "outputs": [
    {
     "data": {
      "text/plain": [
       "['New Delhi, Gurgaon/Gurugram, Bangalore/Bengaluru, Delhi / NCR, Mumbai (All Areas)',\n",
       " 'Gurgaon/Gurugram, Bangalore/Bengaluru']"
      ]
     },
     "execution_count": 32,
     "metadata": {},
     "output_type": "execute_result"
    }
   ],
   "source": [
    "location=[]\n",
    "\n",
    "for i in locn_tags:\n",
    "    location.append(i.text)\n",
    "    \n",
    "location[0:2]"
   ]
  },
  {
   "cell_type": "code",
   "execution_count": 35,
   "id": "14f50799",
   "metadata": {},
   "outputs": [
    {
     "data": {
      "text/plain": [
       "(20, 20, 20, 20)"
      ]
     },
     "execution_count": 35,
     "metadata": {},
     "output_type": "execute_result"
    }
   ],
   "source": [
    "len(job_titles),len(comapany_names),len(experience),len(location)"
   ]
  },
  {
   "cell_type": "code",
   "execution_count": 36,
   "id": "14901fe1",
   "metadata": {},
   "outputs": [
    {
     "data": {
      "text/html": [
       "<div>\n",
       "<style scoped>\n",
       "    .dataframe tbody tr th:only-of-type {\n",
       "        vertical-align: middle;\n",
       "    }\n",
       "\n",
       "    .dataframe tbody tr th {\n",
       "        vertical-align: top;\n",
       "    }\n",
       "\n",
       "    .dataframe thead th {\n",
       "        text-align: right;\n",
       "    }\n",
       "</style>\n",
       "<table border=\"1\" class=\"dataframe\">\n",
       "  <thead>\n",
       "    <tr style=\"text-align: right;\">\n",
       "      <th></th>\n",
       "      <th>Job Title</th>\n",
       "      <th>Company</th>\n",
       "      <th>Experience</th>\n",
       "      <th>Loaction</th>\n",
       "    </tr>\n",
       "  </thead>\n",
       "  <tbody>\n",
       "    <tr>\n",
       "      <th>0</th>\n",
       "      <td>Data Scientist</td>\n",
       "      <td>Korea Trade Center</td>\n",
       "      <td>3-4 Yrs</td>\n",
       "      <td>New Delhi, Gurgaon/Gurugram, Bangalore/Bengalu...</td>\n",
       "    </tr>\n",
       "    <tr>\n",
       "      <th>1</th>\n",
       "      <td>Data Scientist</td>\n",
       "      <td>Genpact</td>\n",
       "      <td>6-10 Yrs</td>\n",
       "      <td>Gurgaon/Gurugram, Bangalore/Bengaluru</td>\n",
       "    </tr>\n",
       "    <tr>\n",
       "      <th>2</th>\n",
       "      <td>Data Analyst / Data Scientist / Business Analy...</td>\n",
       "      <td>GABA Consultancy services</td>\n",
       "      <td>0-0 Yrs</td>\n",
       "      <td>Noida, New Delhi, Delhi / NCR</td>\n",
       "    </tr>\n",
       "    <tr>\n",
       "      <th>3</th>\n",
       "      <td>Only Fresher / Python Data Scientist / Trainee...</td>\n",
       "      <td>GABA Consultancy services</td>\n",
       "      <td>0-0 Yrs</td>\n",
       "      <td>Noida, New Delhi, Gurgaon/Gurugram</td>\n",
       "    </tr>\n",
       "    <tr>\n",
       "      <th>4</th>\n",
       "      <td>Senior Data Scientist</td>\n",
       "      <td>DECISION POINT PRIVATE LIMITED</td>\n",
       "      <td>2-5 Yrs</td>\n",
       "      <td>Gurgaon/Gurugram, Chennai\\n(WFH during Covid)</td>\n",
       "    </tr>\n",
       "    <tr>\n",
       "      <th>5</th>\n",
       "      <td>Data Scientist - Immediate Joiners only</td>\n",
       "      <td>MLAI Digital</td>\n",
       "      <td>3-6 Yrs</td>\n",
       "      <td>Bangalore/Bengaluru, Delhi / NCR</td>\n",
       "    </tr>\n",
       "    <tr>\n",
       "      <th>6</th>\n",
       "      <td>Data Scientist</td>\n",
       "      <td>Gauge Data Solutions Pvt Ltd</td>\n",
       "      <td>2-7 Yrs</td>\n",
       "      <td>Noida</td>\n",
       "    </tr>\n",
       "    <tr>\n",
       "      <th>7</th>\n",
       "      <td>Data Scientist</td>\n",
       "      <td>Alp Consulting Limited</td>\n",
       "      <td>1-6 Yrs</td>\n",
       "      <td>Kolkata, Hyderabad/Secunderabad, Pune, Chennai...</td>\n",
       "    </tr>\n",
       "    <tr>\n",
       "      <th>8</th>\n",
       "      <td>Data Scientist,Data Analyst</td>\n",
       "      <td>Maximus Human Resources Private Limited</td>\n",
       "      <td>1-6 Yrs</td>\n",
       "      <td>Mumbai, Gurgaon/Gurugram</td>\n",
       "    </tr>\n",
       "    <tr>\n",
       "      <th>9</th>\n",
       "      <td>Developers, Data Scientists, Web Designers, An...</td>\n",
       "      <td>Cogmac Technologies</td>\n",
       "      <td>1-5 Yrs</td>\n",
       "      <td>Noida</td>\n",
       "    </tr>\n",
       "    <tr>\n",
       "      <th>10</th>\n",
       "      <td>Lead Data Analyst - Marketing</td>\n",
       "      <td>Tide Software</td>\n",
       "      <td>0-5 Yrs</td>\n",
       "      <td>New Delhi</td>\n",
       "    </tr>\n",
       "    <tr>\n",
       "      <th>11</th>\n",
       "      <td>Senior Data Analyst</td>\n",
       "      <td>Grofers</td>\n",
       "      <td>4-7 Yrs</td>\n",
       "      <td>Gurgaon/Gurugram</td>\n",
       "    </tr>\n",
       "    <tr>\n",
       "      <th>12</th>\n",
       "      <td>Quality Analyst / Data Engineer / Associate An...</td>\n",
       "      <td>GABA Consultancy services</td>\n",
       "      <td>0-5 Yrs</td>\n",
       "      <td>Noida, New Delhi, Delhi / NCR</td>\n",
       "    </tr>\n",
       "    <tr>\n",
       "      <th>13</th>\n",
       "      <td>Lead Data Analyst</td>\n",
       "      <td>Grofers</td>\n",
       "      <td>5-7 Yrs</td>\n",
       "      <td>Gurgaon/Gurugram</td>\n",
       "    </tr>\n",
       "    <tr>\n",
       "      <th>14</th>\n",
       "      <td>Data Analyst</td>\n",
       "      <td>Grofers</td>\n",
       "      <td>1-2 Yrs</td>\n",
       "      <td>Gurgaon/Gurugram, Bangalore/Bengaluru</td>\n",
       "    </tr>\n",
       "    <tr>\n",
       "      <th>15</th>\n",
       "      <td>Data Analyst</td>\n",
       "      <td>Analog Legalhub Technology Solutions Pvt Ltd</td>\n",
       "      <td>0-4 Yrs</td>\n",
       "      <td>New Delhi</td>\n",
       "    </tr>\n",
       "    <tr>\n",
       "      <th>16</th>\n",
       "      <td>Junior Data Analyst</td>\n",
       "      <td>SiCureMi Healthcare Technologies</td>\n",
       "      <td>0-2 Yrs</td>\n",
       "      <td>Delhi</td>\n",
       "    </tr>\n",
       "    <tr>\n",
       "      <th>17</th>\n",
       "      <td>Data Engineer</td>\n",
       "      <td>Collabera India</td>\n",
       "      <td>1-6 Yrs</td>\n",
       "      <td>New Delhi, Pune, Gurgaon/Gurugram, Bangalore/B...</td>\n",
       "    </tr>\n",
       "    <tr>\n",
       "      <th>18</th>\n",
       "      <td>Senior Data Analyst II</td>\n",
       "      <td>Axa XL</td>\n",
       "      <td>3-8 Yrs</td>\n",
       "      <td>Silokhera Gurgaon</td>\n",
       "    </tr>\n",
       "    <tr>\n",
       "      <th>19</th>\n",
       "      <td>Data Analyst</td>\n",
       "      <td>Netomi</td>\n",
       "      <td>0-1 Yrs</td>\n",
       "      <td>Gurgaon</td>\n",
       "    </tr>\n",
       "  </tbody>\n",
       "</table>\n",
       "</div>"
      ],
      "text/plain": [
       "                                            Job Title  \\\n",
       "0                                      Data Scientist   \n",
       "1                                      Data Scientist   \n",
       "2   Data Analyst / Data Scientist / Business Analy...   \n",
       "3   Only Fresher / Python Data Scientist / Trainee...   \n",
       "4                               Senior Data Scientist   \n",
       "5             Data Scientist - Immediate Joiners only   \n",
       "6                                      Data Scientist   \n",
       "7                                      Data Scientist   \n",
       "8                         Data Scientist,Data Analyst   \n",
       "9   Developers, Data Scientists, Web Designers, An...   \n",
       "10                      Lead Data Analyst - Marketing   \n",
       "11                                Senior Data Analyst   \n",
       "12  Quality Analyst / Data Engineer / Associate An...   \n",
       "13                                  Lead Data Analyst   \n",
       "14                                       Data Analyst   \n",
       "15                                       Data Analyst   \n",
       "16                                Junior Data Analyst   \n",
       "17                                      Data Engineer   \n",
       "18                             Senior Data Analyst II   \n",
       "19                                       Data Analyst   \n",
       "\n",
       "                                         Company Experience  \\\n",
       "0                             Korea Trade Center    3-4 Yrs   \n",
       "1                                        Genpact   6-10 Yrs   \n",
       "2                      GABA Consultancy services    0-0 Yrs   \n",
       "3                      GABA Consultancy services    0-0 Yrs   \n",
       "4                 DECISION POINT PRIVATE LIMITED    2-5 Yrs   \n",
       "5                                   MLAI Digital    3-6 Yrs   \n",
       "6                   Gauge Data Solutions Pvt Ltd    2-7 Yrs   \n",
       "7                         Alp Consulting Limited    1-6 Yrs   \n",
       "8        Maximus Human Resources Private Limited    1-6 Yrs   \n",
       "9                            Cogmac Technologies    1-5 Yrs   \n",
       "10                                 Tide Software    0-5 Yrs   \n",
       "11                                       Grofers    4-7 Yrs   \n",
       "12                     GABA Consultancy services    0-5 Yrs   \n",
       "13                                       Grofers    5-7 Yrs   \n",
       "14                                       Grofers    1-2 Yrs   \n",
       "15  Analog Legalhub Technology Solutions Pvt Ltd    0-4 Yrs   \n",
       "16              SiCureMi Healthcare Technologies    0-2 Yrs   \n",
       "17                               Collabera India    1-6 Yrs   \n",
       "18                                        Axa XL    3-8 Yrs   \n",
       "19                                        Netomi    0-1 Yrs   \n",
       "\n",
       "                                             Loaction  \n",
       "0   New Delhi, Gurgaon/Gurugram, Bangalore/Bengalu...  \n",
       "1               Gurgaon/Gurugram, Bangalore/Bengaluru  \n",
       "2                       Noida, New Delhi, Delhi / NCR  \n",
       "3                  Noida, New Delhi, Gurgaon/Gurugram  \n",
       "4       Gurgaon/Gurugram, Chennai\\n(WFH during Covid)  \n",
       "5                    Bangalore/Bengaluru, Delhi / NCR  \n",
       "6                                               Noida  \n",
       "7   Kolkata, Hyderabad/Secunderabad, Pune, Chennai...  \n",
       "8                            Mumbai, Gurgaon/Gurugram  \n",
       "9                                               Noida  \n",
       "10                                          New Delhi  \n",
       "11                                   Gurgaon/Gurugram  \n",
       "12                      Noida, New Delhi, Delhi / NCR  \n",
       "13                                   Gurgaon/Gurugram  \n",
       "14              Gurgaon/Gurugram, Bangalore/Bengaluru  \n",
       "15                                          New Delhi  \n",
       "16                                              Delhi  \n",
       "17  New Delhi, Pune, Gurgaon/Gurugram, Bangalore/B...  \n",
       "18                                  Silokhera Gurgaon  \n",
       "19                                            Gurgaon  "
      ]
     },
     "execution_count": 36,
     "metadata": {},
     "output_type": "execute_result"
    }
   ],
   "source": [
    "jobs=pd.DataFrame()\n",
    "jobs['Job Title']=job_titles\n",
    "jobs['Company']=comapany_names\n",
    "jobs['Experience']=experience\n",
    "jobs['Loaction']=location\n",
    "jobs"
   ]
  },
  {
   "cell_type": "code",
   "execution_count": null,
   "id": "03a633a0",
   "metadata": {},
   "outputs": [],
   "source": []
  },
  {
   "cell_type": "code",
   "execution_count": null,
   "id": "f59a4cce",
   "metadata": {},
   "outputs": [],
   "source": []
  },
  {
   "cell_type": "code",
   "execution_count": null,
   "id": "0005d74f",
   "metadata": {},
   "outputs": [],
   "source": []
  },
  {
   "cell_type": "code",
   "execution_count": null,
   "id": "1539bf73",
   "metadata": {},
   "outputs": [],
   "source": []
  }
 ],
 "metadata": {
  "kernelspec": {
   "display_name": "Python 3",
   "language": "python",
   "name": "python3"
  },
  "language_info": {
   "codemirror_mode": {
    "name": "ipython",
    "version": 3
   },
   "file_extension": ".py",
   "mimetype": "text/x-python",
   "name": "python",
   "nbconvert_exporter": "python",
   "pygments_lexer": "ipython3",
   "version": "3.8.8"
  }
 },
 "nbformat": 4,
 "nbformat_minor": 5
}

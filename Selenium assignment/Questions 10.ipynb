{
 "cells": [
  {
   "cell_type": "code",
   "execution_count": 1,
   "id": "9e042213",
   "metadata": {},
   "outputs": [],
   "source": [
    "#lets import all required librabries\n",
    "import selenium\n",
    "from selenium import webdriver\n",
    "import pandas as pd\n",
    "import warnings\n",
    "warnings.filterwarnings(\"ignore\")"
   ]
  },
  {
   "cell_type": "code",
   "execution_count": 11,
   "id": "4c719c0d",
   "metadata": {},
   "outputs": [],
   "source": [
    "#lets first connect to web driver\n",
    "driver=webdriver.Chrome(r'C:/Users/jishn/Downloads/chromedriver_win32/chromedriver.exe')   \n",
    "driver=webdriver.Chrome('chromedriver.exe')\n",
    "url='https://www.ambitionbox.com/salaries'\n",
    "driver.get(url)"
   ]
  },
  {
   "cell_type": "code",
   "execution_count": null,
   "id": "9e3820df",
   "metadata": {},
   "outputs": [],
   "source": []
  },
  {
   "cell_type": "code",
   "execution_count": null,
   "id": "5d79244f",
   "metadata": {},
   "outputs": [],
   "source": []
  },
  {
   "cell_type": "code",
   "execution_count": 12,
   "id": "9f7bb378",
   "metadata": {},
   "outputs": [
    {
     "data": {
      "text/plain": [
       "<selenium.webdriver.remote.webelement.WebElement (session=\"dc349343774461c51321cd0f3d9a32d3\", element=\"867ec7de-1e2c-42c8-a9cd-faf54ffaa5d0\")>"
      ]
     },
     "execution_count": 12,
     "metadata": {},
     "output_type": "execute_result"
    }
   ],
   "source": [
    "search_job=driver.find_element_by_class_name(\"tt-input\")\n",
    "search_job\n"
   ]
  },
  {
   "cell_type": "code",
   "execution_count": null,
   "id": "fb07ba94",
   "metadata": {},
   "outputs": [],
   "source": []
  },
  {
   "cell_type": "code",
   "execution_count": null,
   "id": "348bbee2",
   "metadata": {},
   "outputs": [],
   "source": []
  },
  {
   "cell_type": "code",
   "execution_count": null,
   "id": "77c14110",
   "metadata": {},
   "outputs": [],
   "source": []
  },
  {
   "cell_type": "code",
   "execution_count": null,
   "id": "2001c06e",
   "metadata": {},
   "outputs": [],
   "source": []
  },
  {
   "cell_type": "code",
   "execution_count": 13,
   "id": "fca8a21d",
   "metadata": {},
   "outputs": [],
   "source": [
    "#write on search bar\n",
    "search_job.send_keys(\"Data Scientist\")"
   ]
  },
  {
   "cell_type": "code",
   "execution_count": 14,
   "id": "1586cdb4",
   "metadata": {},
   "outputs": [],
   "source": [
    "search_btn=driver.find_element_by_xpath('/html/body/div/div/div/div[2]/div/div/div/button/span')\n",
    "search_btn.click()"
   ]
  },
  {
   "cell_type": "code",
   "execution_count": 15,
   "id": "4d3c1a9c",
   "metadata": {},
   "outputs": [],
   "source": [
    "#lets extract all web elements having job titles\n",
    "title_tags=driver.find_elements_by_xpath('//div[@class=\"name\"]')\n",
    "job_titles=[]\n",
    "\n",
    "for i in title_tags:\n",
    "    job_titles.append(i.text)\n",
    "\n",
    "    \n",
    "company_tags=driver.find_elements_by_xpath('//div[@class=\"value body-medium\"]')\n",
    "company_names=[]\n",
    "\n",
    "for i in company_tags:\n",
    "    company_names.append(i.text)\n",
    "company_names[0:10]\n",
    "\n",
    "exp_tags=driver.find_elements_by_xpath('//div[@class=\"salaries sbold-list-header\"]')\n",
    "experience=[]\n",
    "\n",
    "for i in exp_tags:\n",
    "    experience.append(i.text)\n",
    "    \n",
    "experience[0:10]\n",
    "locn_tags=driver.find_elements_by_xpath('//div[@class=\"value body-medium\"]')\n",
    "location=[]\n",
    "\n",
    "for i in locn_tags:\n",
    "    location.append(i.text)"
   ]
  },
  {
   "cell_type": "code",
   "execution_count": null,
   "id": "b0699f57",
   "metadata": {},
   "outputs": [],
   "source": []
  },
  {
   "cell_type": "code",
   "execution_count": null,
   "id": "576e5fc4",
   "metadata": {},
   "outputs": [],
   "source": []
  },
  {
   "cell_type": "code",
   "execution_count": 18,
   "id": "89d1528b",
   "metadata": {},
   "outputs": [
    {
     "data": {
      "text/html": [
       "<div>\n",
       "<style scoped>\n",
       "    .dataframe tbody tr th:only-of-type {\n",
       "        vertical-align: middle;\n",
       "    }\n",
       "\n",
       "    .dataframe tbody tr th {\n",
       "        vertical-align: top;\n",
       "    }\n",
       "\n",
       "    .dataframe thead th {\n",
       "        text-align: right;\n",
       "    }\n",
       "</style>\n",
       "<table border=\"1\" class=\"dataframe\">\n",
       "  <thead>\n",
       "    <tr style=\"text-align: right;\">\n",
       "      <th></th>\n",
       "      <th>Job Title</th>\n",
       "      <th>Experience</th>\n",
       "    </tr>\n",
       "  </thead>\n",
       "  <tbody>\n",
       "    <tr>\n",
       "      <th>0</th>\n",
       "      <td>Ab Inbev\\nbased on 28 salaries</td>\n",
       "      <td>Data Scientist\\n . \\n3-4 yrs exp</td>\n",
       "    </tr>\n",
       "    <tr>\n",
       "      <th>1</th>\n",
       "      <td>ZS\\nbased on 15 salaries</td>\n",
       "      <td>Data Scientist\\n . \\n2 yrs exp</td>\n",
       "    </tr>\n",
       "    <tr>\n",
       "      <th>2</th>\n",
       "      <td>Optum\\nbased on 25 salaries</td>\n",
       "      <td>Data Scientist\\n . \\n3-4 yrs exp</td>\n",
       "    </tr>\n",
       "    <tr>\n",
       "      <th>3</th>\n",
       "      <td>Fractal Analytics\\nbased on 77 salaries</td>\n",
       "      <td>Data Scientist\\n . \\n2-4 yrs exp</td>\n",
       "    </tr>\n",
       "    <tr>\n",
       "      <th>4</th>\n",
       "      <td>Tiger Analytics\\nbased on 33 salaries</td>\n",
       "      <td>Data Scientist\\n . \\n3-4 yrs exp</td>\n",
       "    </tr>\n",
       "    <tr>\n",
       "      <th>5</th>\n",
       "      <td>UnitedHealth\\nbased on 52 salaries</td>\n",
       "      <td>Data Scientist\\n . \\n2-4 yrs exp</td>\n",
       "    </tr>\n",
       "    <tr>\n",
       "      <th>6</th>\n",
       "      <td>Verizon\\nbased on 14 salaries</td>\n",
       "      <td>Data Scientist\\n . \\n4 yrs exp</td>\n",
       "    </tr>\n",
       "    <tr>\n",
       "      <th>7</th>\n",
       "      <td>Ganit Business Solutions\\nbased on 13 salaries</td>\n",
       "      <td>Data Scientist\\n . \\n4 yrs exp</td>\n",
       "    </tr>\n",
       "    <tr>\n",
       "      <th>8</th>\n",
       "      <td>Ericsson\\nbased on 43 salaries</td>\n",
       "      <td>Data Scientist\\n . \\n3-4 yrs exp</td>\n",
       "    </tr>\n",
       "    <tr>\n",
       "      <th>9</th>\n",
       "      <td>Deloitte\\nbased on 57 salaries</td>\n",
       "      <td>Data Scientist\\n . \\n2-4 yrs exp</td>\n",
       "    </tr>\n",
       "  </tbody>\n",
       "</table>\n",
       "</div>"
      ],
      "text/plain": [
       "                                        Job Title  \\\n",
       "0                  Ab Inbev\\nbased on 28 salaries   \n",
       "1                        ZS\\nbased on 15 salaries   \n",
       "2                     Optum\\nbased on 25 salaries   \n",
       "3         Fractal Analytics\\nbased on 77 salaries   \n",
       "4           Tiger Analytics\\nbased on 33 salaries   \n",
       "5              UnitedHealth\\nbased on 52 salaries   \n",
       "6                   Verizon\\nbased on 14 salaries   \n",
       "7  Ganit Business Solutions\\nbased on 13 salaries   \n",
       "8                  Ericsson\\nbased on 43 salaries   \n",
       "9                  Deloitte\\nbased on 57 salaries   \n",
       "\n",
       "                         Experience  \n",
       "0  Data Scientist\\n . \\n3-4 yrs exp  \n",
       "1    Data Scientist\\n . \\n2 yrs exp  \n",
       "2  Data Scientist\\n . \\n3-4 yrs exp  \n",
       "3  Data Scientist\\n . \\n2-4 yrs exp  \n",
       "4  Data Scientist\\n . \\n3-4 yrs exp  \n",
       "5  Data Scientist\\n . \\n2-4 yrs exp  \n",
       "6    Data Scientist\\n . \\n4 yrs exp  \n",
       "7    Data Scientist\\n . \\n4 yrs exp  \n",
       "8  Data Scientist\\n . \\n3-4 yrs exp  \n",
       "9  Data Scientist\\n . \\n2-4 yrs exp  "
      ]
     },
     "execution_count": 18,
     "metadata": {},
     "output_type": "execute_result"
    }
   ],
   "source": [
    "jobs=pd.DataFrame()\n",
    "jobs['Job Title']=job_titles\n",
    "jobs['Experience']=experience\n",
    "jobs"
   ]
  },
  {
   "cell_type": "code",
   "execution_count": null,
   "id": "e3fadca0",
   "metadata": {},
   "outputs": [],
   "source": []
  },
  {
   "cell_type": "code",
   "execution_count": null,
   "id": "8f2e2ff4",
   "metadata": {},
   "outputs": [],
   "source": []
  },
  {
   "cell_type": "code",
   "execution_count": null,
   "id": "63a9170d",
   "metadata": {},
   "outputs": [],
   "source": []
  },
  {
   "cell_type": "code",
   "execution_count": null,
   "id": "3b40bf3e",
   "metadata": {},
   "outputs": [],
   "source": []
  },
  {
   "cell_type": "code",
   "execution_count": null,
   "id": "46e172f4",
   "metadata": {},
   "outputs": [],
   "source": []
  }
 ],
 "metadata": {
  "kernelspec": {
   "display_name": "Python 3",
   "language": "python",
   "name": "python3"
  },
  "language_info": {
   "codemirror_mode": {
    "name": "ipython",
    "version": 3
   },
   "file_extension": ".py",
   "mimetype": "text/x-python",
   "name": "python",
   "nbconvert_exporter": "python",
   "pygments_lexer": "ipython3",
   "version": "3.8.8"
  }
 },
 "nbformat": 4,
 "nbformat_minor": 5
}

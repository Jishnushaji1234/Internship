{
 "cells": [
  {
   "cell_type": "code",
   "execution_count": 1,
   "id": "8f5a55f9",
   "metadata": {},
   "outputs": [
    {
     "name": "stdout",
     "output_type": "stream",
     "text": [
      "Requirement already satisfied: selenium in c:\\users\\jishn\\anaconda3\\lib\\site-packages (4.1.3)\n",
      "Requirement already satisfied: trio-websocket~=0.9 in c:\\users\\jishn\\anaconda3\\lib\\site-packages (from selenium) (0.9.2)\n",
      "Requirement already satisfied: trio~=0.17 in c:\\users\\jishn\\anaconda3\\lib\\site-packages (from selenium) (0.20.0)\n",
      "Requirement already satisfied: urllib3[secure,socks]~=1.26 in c:\\users\\jishn\\anaconda3\\lib\\site-packages (from selenium) (1.26.4)\n",
      "Requirement already satisfied: sortedcontainers in c:\\users\\jishn\\anaconda3\\lib\\site-packages (from trio~=0.17->selenium) (2.3.0)\n",
      "Requirement already satisfied: sniffio in c:\\users\\jishn\\anaconda3\\lib\\site-packages (from trio~=0.17->selenium) (1.2.0)\n",
      "Requirement already satisfied: idna in c:\\users\\jishn\\anaconda3\\lib\\site-packages (from trio~=0.17->selenium) (2.10)\n",
      "Requirement already satisfied: async-generator>=1.9 in c:\\users\\jishn\\anaconda3\\lib\\site-packages (from trio~=0.17->selenium) (1.10)\n",
      "Requirement already satisfied: outcome in c:\\users\\jishn\\anaconda3\\lib\\site-packages (from trio~=0.17->selenium) (1.1.0)\n",
      "Requirement already satisfied: cffi>=1.14 in c:\\users\\jishn\\anaconda3\\lib\\site-packages (from trio~=0.17->selenium) (1.14.5)\n",
      "Requirement already satisfied: attrs>=19.2.0 in c:\\users\\jishn\\anaconda3\\lib\\site-packages (from trio~=0.17->selenium) (20.3.0)\n",
      "Requirement already satisfied: pycparser in c:\\users\\jishn\\anaconda3\\lib\\site-packages (from cffi>=1.14->trio~=0.17->selenium) (2.20)\n",
      "Requirement already satisfied: wsproto>=0.14 in c:\\users\\jishn\\anaconda3\\lib\\site-packages (from trio-websocket~=0.9->selenium) (1.1.0)\n",
      "Requirement already satisfied: PySocks!=1.5.7,<2.0,>=1.5.6 in c:\\users\\jishn\\anaconda3\\lib\\site-packages (from urllib3[secure,socks]~=1.26->selenium) (1.7.1)\n",
      "Requirement already satisfied: cryptography>=1.3.4 in c:\\users\\jishn\\anaconda3\\lib\\site-packages (from urllib3[secure,socks]~=1.26->selenium) (3.4.7)\n",
      "Requirement already satisfied: certifi in c:\\users\\jishn\\anaconda3\\lib\\site-packages (from urllib3[secure,socks]~=1.26->selenium) (2020.12.5)\n",
      "Requirement already satisfied: pyOpenSSL>=0.14 in c:\\users\\jishn\\anaconda3\\lib\\site-packages (from urllib3[secure,socks]~=1.26->selenium) (20.0.1)\n",
      "Requirement already satisfied: six>=1.5.2 in c:\\users\\jishn\\anaconda3\\lib\\site-packages (from pyOpenSSL>=0.14->urllib3[secure,socks]~=1.26->selenium) (1.15.0)\n",
      "Requirement already satisfied: h11<1,>=0.9.0 in c:\\users\\jishn\\anaconda3\\lib\\site-packages (from wsproto>=0.14->trio-websocket~=0.9->selenium) (0.13.0)\n"
     ]
    }
   ],
   "source": [
    "!pip install selenium"
   ]
  },
  {
   "cell_type": "code",
   "execution_count": 2,
   "id": "5bc84b5b",
   "metadata": {},
   "outputs": [],
   "source": [
    "#lets import all required librabries\n",
    "import selenium\n",
    "from selenium import webdriver\n",
    "import pandas as pd\n",
    "import warnings\n",
    "warnings.filterwarnings(\"ignore\")"
   ]
  },
  {
   "cell_type": "code",
   "execution_count": 3,
   "id": "0ff0637a",
   "metadata": {},
   "outputs": [
    {
     "data": {
      "text/plain": [
       "<selenium.webdriver.remote.webelement.WebElement (session=\"a82ce0ab9f76c9b0f08fb6bc3fdad858\", element=\"a132fda2-1ccc-4f35-af66-1a11186124cd\")>"
      ]
     },
     "execution_count": 3,
     "metadata": {},
     "output_type": "execute_result"
    }
   ],
   "source": [
    "#lets first connect to web driver\n",
    "driver=webdriver.Chrome(r'C:/Users/jishn/Downloads/chromedriver_win32/chromedriver.exe')   \n",
    "driver=webdriver.Chrome('chromedriver.exe')\n",
    "url='https://www.naukri.com/'\n",
    "driver.get(url)\n",
    "search_job=driver.find_element_by_class_name(\"suggestor-input \")\n",
    "search_job"
   ]
  },
  {
   "cell_type": "code",
   "execution_count": 4,
   "id": "a2715b78",
   "metadata": {},
   "outputs": [
    {
     "data": {
      "text/plain": [
       "<selenium.webdriver.remote.webelement.WebElement (session=\"a82ce0ab9f76c9b0f08fb6bc3fdad858\", element=\"0758db88-e751-4461-b29d-4b933d9a52ac\")>"
      ]
     },
     "execution_count": 4,
     "metadata": {},
     "output_type": "execute_result"
    }
   ],
   "source": [
    "#write on search bar\n",
    "search_job.send_keys(\"Data Analyst\")\n",
    "#finding web elemnt for search locn bar using absolute path\n",
    "search_locn=driver.find_element_by_xpath('/html/body/div/div[2]/div[3]/div/div/div[3]/div/div/div/input')\n",
    "search_locn"
   ]
  },
  {
   "cell_type": "code",
   "execution_count": 7,
   "id": "393cade6",
   "metadata": {},
   "outputs": [],
   "source": [
    "#finding web element for job location bar\n",
    "search_locn.send_keys(\"Bangalore\")\n",
    "#clicking using absolute xpath function\n",
    "search_btn=driver.find_element_by_xpath('/html/body/div/div[2]/div[3]/div/div/div[6]')\n",
    "search_btn.click()"
   ]
  },
  {
   "cell_type": "code",
   "execution_count": 8,
   "id": "eb78a14e",
   "metadata": {},
   "outputs": [
    {
     "data": {
      "text/plain": [
       "20"
      ]
     },
     "execution_count": 8,
     "metadata": {},
     "output_type": "execute_result"
    }
   ],
   "source": [
    "#lets extract all web elements having job titles\n",
    "title_tags=driver.find_elements_by_xpath('//a[@class=\"title fw500 ellipsis\"]')\n",
    "job_titles=[]\n",
    "\n",
    "for i in title_tags:\n",
    "    job_titles.append(i.text)\n",
    "len(job_titles)"
   ]
  },
  {
   "cell_type": "code",
   "execution_count": 9,
   "id": "000e7be4",
   "metadata": {},
   "outputs": [
    {
     "data": {
      "text/plain": [
       "['Hiring For Data Analyst I(SQL & Python)',\n",
       " 'Data Analyst',\n",
       " 'Data Analyst / Data Scientist / Business Analytics / Fresher - MNC',\n",
       " 'Data Analyst',\n",
       " 'Data Analyst',\n",
       " 'Data Analyst/ business analyst/ Data analytics/- Python & SQL',\n",
       " 'MIS Executive / Data Analyst / Business Analytics Jobs- MNC',\n",
       " 'Research and Data Analyst',\n",
       " 'Data Analyst - 3rd Party Payroll',\n",
       " 'Data Coordinator | Data Analyst | MS Excel | Typing | Bangalore']"
      ]
     },
     "execution_count": 9,
     "metadata": {},
     "output_type": "execute_result"
    }
   ],
   "source": [
    "job_titles[0:10]"
   ]
  },
  {
   "cell_type": "code",
   "execution_count": 10,
   "id": "9914a201",
   "metadata": {},
   "outputs": [
    {
     "data": {
      "text/plain": [
       "['Clario India Pvt Ltd',\n",
       " 'TOTAL MARKETING SUPPORT INDIA PRIVATE LIMITED',\n",
       " 'GABA Consultancy services',\n",
       " 'M/S RS COMPONENTS CONTROLS (INDIA) LIMITED',\n",
       " 'Snaphunt',\n",
       " 'Data Analytics company (MNC) US based',\n",
       " 'GABA Consultancy services',\n",
       " 'WIN HOME INSPECTION INDIA PRIVATE LIMITED',\n",
       " 'Flipkart',\n",
       " 'Inspiration Manpower Consultancy Pvt. Ltd.']"
      ]
     },
     "execution_count": 10,
     "metadata": {},
     "output_type": "execute_result"
    }
   ],
   "source": [
    "company_tags=driver.find_elements_by_xpath('//a[@class=\"subTitle ellipsis fleft\"]')\n",
    "company_names=[]\n",
    "\n",
    "for i in company_tags:\n",
    "    company_names.append(i.text)\n",
    "company_names[0:10]"
   ]
  },
  {
   "cell_type": "code",
   "execution_count": 11,
   "id": "143d2022",
   "metadata": {},
   "outputs": [
    {
     "data": {
      "text/plain": [
       "['0-2 Yrs',\n",
       " '0-5 Yrs',\n",
       " '0-0 Yrs',\n",
       " '4-8 Yrs',\n",
       " '0-5 Yrs',\n",
       " '3-8 Yrs',\n",
       " '0-5 Yrs',\n",
       " '1-6 Yrs',\n",
       " '2-4 Yrs',\n",
       " '0-1 Yrs']"
      ]
     },
     "execution_count": 11,
     "metadata": {},
     "output_type": "execute_result"
    }
   ],
   "source": [
    "exp_tags=driver.find_elements_by_xpath('//li[@class=\"fleft grey-text br2 placeHolderLi experience\"]')\n",
    "experience=[]\n",
    "\n",
    "for i in exp_tags:\n",
    "    experience.append(i.text)\n",
    "    \n",
    "experience[0:10]"
   ]
  },
  {
   "cell_type": "code",
   "execution_count": 12,
   "id": "ab1f1a62",
   "metadata": {},
   "outputs": [
    {
     "data": {
      "text/plain": [
       "['Bangalore/Bengaluru',\n",
       " 'Gurgaon/Gurugram',\n",
       " 'Noida, New Delhi, Delhi / NCR',\n",
       " 'Noida',\n",
       " 'Hyderabad/Secunderabad',\n",
       " 'Noida, Gurgaon/Gurugram, Delhi / NCR',\n",
       " 'Noida, Gurgaon/Gurugram, Delhi / NCR',\n",
       " 'Noida, Delhi / NCR\\n(WFH during Covid)',\n",
       " 'Bangalore/Bengaluru',\n",
       " 'Bangalore/Bengaluru(Sadashiva Nagar)']"
      ]
     },
     "execution_count": 12,
     "metadata": {},
     "output_type": "execute_result"
    }
   ],
   "source": [
    "locn_tags=driver.find_elements_by_xpath('//li[@class=\"fleft grey-text br2 placeHolderLi location\"]')\n",
    "location=[]\n",
    "\n",
    "for i in locn_tags:\n",
    "    location.append(i.text)\n",
    "    \n",
    "location[0:10]"
   ]
  },
  {
   "cell_type": "code",
   "execution_count": 16,
   "id": "dbd2457b",
   "metadata": {},
   "outputs": [
    {
     "data": {
      "text/plain": [
       "(20, 20, 20)"
      ]
     },
     "execution_count": 16,
     "metadata": {},
     "output_type": "execute_result"
    }
   ],
   "source": [
    "len(job_titles),len(company_names),len(location)"
   ]
  },
  {
   "cell_type": "code",
   "execution_count": null,
   "id": "e101b0fd",
   "metadata": {},
   "outputs": [],
   "source": []
  },
  {
   "cell_type": "code",
   "execution_count": 17,
   "id": "2112d6f1",
   "metadata": {},
   "outputs": [
    {
     "data": {
      "text/html": [
       "<div>\n",
       "<style scoped>\n",
       "    .dataframe tbody tr th:only-of-type {\n",
       "        vertical-align: middle;\n",
       "    }\n",
       "\n",
       "    .dataframe tbody tr th {\n",
       "        vertical-align: top;\n",
       "    }\n",
       "\n",
       "    .dataframe thead th {\n",
       "        text-align: right;\n",
       "    }\n",
       "</style>\n",
       "<table border=\"1\" class=\"dataframe\">\n",
       "  <thead>\n",
       "    <tr style=\"text-align: right;\">\n",
       "      <th></th>\n",
       "      <th>Job Title</th>\n",
       "      <th>Company</th>\n",
       "      <th>Loaction</th>\n",
       "    </tr>\n",
       "  </thead>\n",
       "  <tbody>\n",
       "    <tr>\n",
       "      <th>0</th>\n",
       "      <td>Hiring For Data Analyst I(SQL &amp; Python)</td>\n",
       "      <td>Clario India Pvt Ltd</td>\n",
       "      <td>Bangalore/Bengaluru</td>\n",
       "    </tr>\n",
       "    <tr>\n",
       "      <th>1</th>\n",
       "      <td>Data Analyst</td>\n",
       "      <td>TOTAL MARKETING SUPPORT INDIA PRIVATE LIMITED</td>\n",
       "      <td>Gurgaon/Gurugram</td>\n",
       "    </tr>\n",
       "    <tr>\n",
       "      <th>2</th>\n",
       "      <td>Data Analyst / Data Scientist / Business Analy...</td>\n",
       "      <td>GABA Consultancy services</td>\n",
       "      <td>Noida, New Delhi, Delhi / NCR</td>\n",
       "    </tr>\n",
       "    <tr>\n",
       "      <th>3</th>\n",
       "      <td>Data Analyst</td>\n",
       "      <td>M/S RS COMPONENTS CONTROLS (INDIA) LIMITED</td>\n",
       "      <td>Noida</td>\n",
       "    </tr>\n",
       "    <tr>\n",
       "      <th>4</th>\n",
       "      <td>Data Analyst</td>\n",
       "      <td>Snaphunt</td>\n",
       "      <td>Hyderabad/Secunderabad</td>\n",
       "    </tr>\n",
       "    <tr>\n",
       "      <th>5</th>\n",
       "      <td>Data Analyst/ business analyst/ Data analytics...</td>\n",
       "      <td>Data Analytics company (MNC) US based</td>\n",
       "      <td>Noida, Gurgaon/Gurugram, Delhi / NCR</td>\n",
       "    </tr>\n",
       "    <tr>\n",
       "      <th>6</th>\n",
       "      <td>MIS Executive / Data Analyst / Business Analyt...</td>\n",
       "      <td>GABA Consultancy services</td>\n",
       "      <td>Noida, Gurgaon/Gurugram, Delhi / NCR</td>\n",
       "    </tr>\n",
       "    <tr>\n",
       "      <th>7</th>\n",
       "      <td>Research and Data Analyst</td>\n",
       "      <td>WIN HOME INSPECTION INDIA PRIVATE LIMITED</td>\n",
       "      <td>Noida, Delhi / NCR\\n(WFH during Covid)</td>\n",
       "    </tr>\n",
       "    <tr>\n",
       "      <th>8</th>\n",
       "      <td>Data Analyst - 3rd Party Payroll</td>\n",
       "      <td>Flipkart</td>\n",
       "      <td>Bangalore/Bengaluru</td>\n",
       "    </tr>\n",
       "    <tr>\n",
       "      <th>9</th>\n",
       "      <td>Data Coordinator | Data Analyst | MS Excel | T...</td>\n",
       "      <td>Inspiration Manpower Consultancy Pvt. Ltd.</td>\n",
       "      <td>Bangalore/Bengaluru(Sadashiva Nagar)</td>\n",
       "    </tr>\n",
       "    <tr>\n",
       "      <th>10</th>\n",
       "      <td>Associate Data Analyst</td>\n",
       "      <td>CeX WeBuy Entertainment Pvt.Ltd</td>\n",
       "      <td>Mumbai (All Areas)(Lower Parel)</td>\n",
       "    </tr>\n",
       "    <tr>\n",
       "      <th>11</th>\n",
       "      <td>software developer &amp; Testing / Business Analys...</td>\n",
       "      <td>SECRET TECHNOLOGIES INDIA VMS GROUP</td>\n",
       "      <td>Pune, Bangalore/Bengaluru(Shivaji Nagar), Mumb...</td>\n",
       "    </tr>\n",
       "    <tr>\n",
       "      <th>12</th>\n",
       "      <td>Lead Data Analyst - Marketing</td>\n",
       "      <td>Tide Software</td>\n",
       "      <td>New Delhi</td>\n",
       "    </tr>\n",
       "    <tr>\n",
       "      <th>13</th>\n",
       "      <td>SEO Data Analyst</td>\n",
       "      <td>Internet Brands</td>\n",
       "      <td>Mumbai</td>\n",
       "    </tr>\n",
       "    <tr>\n",
       "      <th>14</th>\n",
       "      <td>Intern - Data Analyst</td>\n",
       "      <td>TMF Group</td>\n",
       "      <td>Gurgaon/Gurugram</td>\n",
       "    </tr>\n",
       "    <tr>\n",
       "      <th>15</th>\n",
       "      <td>Senior Data Analyst II</td>\n",
       "      <td>Flipkart</td>\n",
       "      <td>Bangalore/Bengaluru</td>\n",
       "    </tr>\n",
       "    <tr>\n",
       "      <th>16</th>\n",
       "      <td>Senior Data Analyst</td>\n",
       "      <td>Flipkart</td>\n",
       "      <td>Bangalore/Bengaluru</td>\n",
       "    </tr>\n",
       "    <tr>\n",
       "      <th>17</th>\n",
       "      <td>Senior Data Analyst II</td>\n",
       "      <td>Flipkart</td>\n",
       "      <td>Bangalore/Bengaluru</td>\n",
       "    </tr>\n",
       "    <tr>\n",
       "      <th>18</th>\n",
       "      <td>Senior Data Analyst II</td>\n",
       "      <td>Flipkart</td>\n",
       "      <td>Bangalore/Bengaluru</td>\n",
       "    </tr>\n",
       "    <tr>\n",
       "      <th>19</th>\n",
       "      <td>Data Analyst I</td>\n",
       "      <td>Cerner</td>\n",
       "      <td>Bangalore/Bengaluru</td>\n",
       "    </tr>\n",
       "  </tbody>\n",
       "</table>\n",
       "</div>"
      ],
      "text/plain": [
       "                                            Job Title  \\\n",
       "0             Hiring For Data Analyst I(SQL & Python)   \n",
       "1                                        Data Analyst   \n",
       "2   Data Analyst / Data Scientist / Business Analy...   \n",
       "3                                        Data Analyst   \n",
       "4                                        Data Analyst   \n",
       "5   Data Analyst/ business analyst/ Data analytics...   \n",
       "6   MIS Executive / Data Analyst / Business Analyt...   \n",
       "7                           Research and Data Analyst   \n",
       "8                    Data Analyst - 3rd Party Payroll   \n",
       "9   Data Coordinator | Data Analyst | MS Excel | T...   \n",
       "10                             Associate Data Analyst   \n",
       "11  software developer & Testing / Business Analys...   \n",
       "12                      Lead Data Analyst - Marketing   \n",
       "13                                   SEO Data Analyst   \n",
       "14                              Intern - Data Analyst   \n",
       "15                             Senior Data Analyst II   \n",
       "16                                Senior Data Analyst   \n",
       "17                             Senior Data Analyst II   \n",
       "18                             Senior Data Analyst II   \n",
       "19                                     Data Analyst I   \n",
       "\n",
       "                                          Company  \\\n",
       "0                            Clario India Pvt Ltd   \n",
       "1   TOTAL MARKETING SUPPORT INDIA PRIVATE LIMITED   \n",
       "2                       GABA Consultancy services   \n",
       "3      M/S RS COMPONENTS CONTROLS (INDIA) LIMITED   \n",
       "4                                        Snaphunt   \n",
       "5           Data Analytics company (MNC) US based   \n",
       "6                       GABA Consultancy services   \n",
       "7       WIN HOME INSPECTION INDIA PRIVATE LIMITED   \n",
       "8                                        Flipkart   \n",
       "9      Inspiration Manpower Consultancy Pvt. Ltd.   \n",
       "10                CeX WeBuy Entertainment Pvt.Ltd   \n",
       "11            SECRET TECHNOLOGIES INDIA VMS GROUP   \n",
       "12                                  Tide Software   \n",
       "13                                Internet Brands   \n",
       "14                                      TMF Group   \n",
       "15                                       Flipkart   \n",
       "16                                       Flipkart   \n",
       "17                                       Flipkart   \n",
       "18                                       Flipkart   \n",
       "19                                         Cerner   \n",
       "\n",
       "                                             Loaction  \n",
       "0                                 Bangalore/Bengaluru  \n",
       "1                                    Gurgaon/Gurugram  \n",
       "2                       Noida, New Delhi, Delhi / NCR  \n",
       "3                                               Noida  \n",
       "4                              Hyderabad/Secunderabad  \n",
       "5                Noida, Gurgaon/Gurugram, Delhi / NCR  \n",
       "6                Noida, Gurgaon/Gurugram, Delhi / NCR  \n",
       "7              Noida, Delhi / NCR\\n(WFH during Covid)  \n",
       "8                                 Bangalore/Bengaluru  \n",
       "9                Bangalore/Bengaluru(Sadashiva Nagar)  \n",
       "10                    Mumbai (All Areas)(Lower Parel)  \n",
       "11  Pune, Bangalore/Bengaluru(Shivaji Nagar), Mumb...  \n",
       "12                                          New Delhi  \n",
       "13                                             Mumbai  \n",
       "14                                   Gurgaon/Gurugram  \n",
       "15                                Bangalore/Bengaluru  \n",
       "16                                Bangalore/Bengaluru  \n",
       "17                                Bangalore/Bengaluru  \n",
       "18                                Bangalore/Bengaluru  \n",
       "19                                Bangalore/Bengaluru  "
      ]
     },
     "execution_count": 17,
     "metadata": {},
     "output_type": "execute_result"
    }
   ],
   "source": [
    "jobs=pd.DataFrame()\n",
    "jobs['Job Title']=job_titles\n",
    "jobs['Company']=company_names\n",
    "jobs['Loaction']=location\n",
    "jobs"
   ]
  },
  {
   "cell_type": "code",
   "execution_count": null,
   "id": "b0e77e6a",
   "metadata": {},
   "outputs": [],
   "source": []
  },
  {
   "cell_type": "code",
   "execution_count": null,
   "id": "2829e652",
   "metadata": {},
   "outputs": [],
   "source": []
  },
  {
   "cell_type": "code",
   "execution_count": null,
   "id": "cc5db944",
   "metadata": {},
   "outputs": [],
   "source": []
  },
  {
   "cell_type": "code",
   "execution_count": null,
   "id": "d2bacfde",
   "metadata": {},
   "outputs": [],
   "source": []
  },
  {
   "cell_type": "code",
   "execution_count": null,
   "id": "f1de8ae9",
   "metadata": {},
   "outputs": [],
   "source": []
  }
 ],
 "metadata": {
  "kernelspec": {
   "display_name": "Python 3",
   "language": "python",
   "name": "python3"
  },
  "language_info": {
   "codemirror_mode": {
    "name": "ipython",
    "version": 3
   },
   "file_extension": ".py",
   "mimetype": "text/x-python",
   "name": "python",
   "nbconvert_exporter": "python",
   "pygments_lexer": "ipython3",
   "version": "3.8.8"
  }
 },
 "nbformat": 4,
 "nbformat_minor": 5
}

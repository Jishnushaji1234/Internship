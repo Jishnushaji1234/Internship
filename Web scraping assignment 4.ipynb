{
 "cells": [
  {
   "cell_type": "markdown",
   "id": "cdc8cb3a",
   "metadata": {},
   "source": [
    "# WEB SCRAPING ASSIGNMENT 4"
   ]
  },
  {
   "cell_type": "code",
   "execution_count": 58,
   "id": "2632b70e",
   "metadata": {},
   "outputs": [],
   "source": [
    "# Importing Libraries\n",
    "import selenium\n",
    "import pandas as pd\n",
    "import time\n",
    "from bs4 import BeautifulSoup\n",
    "\n",
    "# Importing selenium webdriver \n",
    "from selenium import webdriver\n",
    "\n",
    "# Importing required Exceptions which needs to handled\n",
    "from selenium.common.exceptions import StaleElementReferenceException, NoSuchElementException\n",
    "\n",
    "#Importing requests\n",
    "import requests\n",
    "\n",
    "# importing regex\n",
    "import re"
   ]
  },
  {
   "cell_type": "code",
   "execution_count": null,
   "id": "4ad960df",
   "metadata": {},
   "outputs": [],
   "source": []
  },
  {
   "cell_type": "markdown",
   "id": "e65a8769",
   "metadata": {},
   "source": [
    "1. Scrape the details of most viewed videos on YouTube from Wikipedia.\n",
    "Url = https://en.wikipedia.org/wiki/List_of_most-viewed_YouTube_videos\n",
    "You need to find following details:\n",
    "A) Rank\n",
    "B) Name\n",
    "C) Artist\n",
    "D) Upload date\n",
    "E) Views"
   ]
  },
  {
   "cell_type": "code",
   "execution_count": 34,
   "id": "8d78fe41",
   "metadata": {},
   "outputs": [
    {
     "name": "stderr",
     "output_type": "stream",
     "text": [
      "<ipython-input-34-e6ecb3598061>:2: DeprecationWarning: executable_path has been deprecated, please pass in a Service object\n",
      "  driver=webdriver.Chrome(\"chromedriver.exe\")\n"
     ]
    }
   ],
   "source": [
    "# Activating the chrome browser\n",
    "driver=webdriver.Chrome(\"chromedriver.exe\") \n",
    "time.sleep(3)\n",
    "\n",
    "# Opening the homepage of Amazon.in\n",
    "url = \"https://en.wikipedia.org/wiki/List_of_most-viewed_YouTube_videos\"\n",
    "driver.get(url)\n",
    "\n",
    "time.sleep(2)"
   ]
  },
  {
   "cell_type": "code",
   "execution_count": 44,
   "id": "9785abfd",
   "metadata": {},
   "outputs": [
    {
     "name": "stderr",
     "output_type": "stream",
     "text": [
      "<ipython-input-44-74d781948d47>:7: DeprecationWarning: find_elements_by_xpath is deprecated. Please use find_elements(by=By.XPATH, value=xpath) instead\n",
      "  like = driver.find_elements_by_xpath(\"//a[@class='mw-redirect']\")\n",
      "<ipython-input-44-74d781948d47>:12: DeprecationWarning: find_elements_by_xpath is deprecated. Please use find_elements(by=By.XPATH, value=xpath) instead\n",
      "  place = driver.find_elements_by_xpath('/html/body/div[3]/div[3]/div[5]/div[1]/table[3]/tbody/tr[1]/td[3]')\n",
      "<ipython-input-44-74d781948d47>:17: DeprecationWarning: find_elements_by_xpath is deprecated. Please use find_elements(by=By.XPATH, value=xpath) instead\n",
      "  date = driver.find_elements_by_xpath('/html/body/div[3]/div[3]/div[5]/div[1]/table[3]/tbody/tr[1]/td[5]')\n",
      "<ipython-input-44-74d781948d47>:22: DeprecationWarning: find_elements_by_xpath is deprecated. Please use find_elements(by=By.XPATH, value=xpath) instead\n",
      "  time_Mtch = driver.find_elements_by_xpath('/html/body/div[3]/div[3]/div[5]/div[1]/table[3]/tbody/tr[1]/td[4]')\n"
     ]
    }
   ],
   "source": [
    "\n",
    "name=[]\n",
    "artist=[]\n",
    "upload_date=[]\n",
    "views=[]\n",
    "#scraping the name\n",
    "\n",
    "like = driver.find_elements_by_xpath(\"//a[@class='mw-redirect']\")\n",
    "for i in like:\n",
    "    name.append(i.text)\n",
    "        \n",
    "#scrape Artist\n",
    "place = driver.find_elements_by_xpath('/html/body/div[3]/div[3]/div[5]/div[1]/table[3]/tbody/tr[1]/td[3]')\n",
    "for i in place:\n",
    "    artist.append(i.text)\n",
    "\n",
    "#scrape Upload date\n",
    "date = driver.find_elements_by_xpath('/html/body/div[3]/div[3]/div[5]/div[1]/table[3]/tbody/tr[1]/td[5]')\n",
    "for i in date:\n",
    "    upload_date.append(i.text)\n",
    "    \n",
    "#Scrape views\n",
    "time_Mtch = driver.find_elements_by_xpath('/html/body/div[3]/div[3]/div[5]/div[1]/table[3]/tbody/tr[1]/td[4]')\n",
    "for i in time_Mtch:\n",
    "    views.append(i.text) \n",
    "    \n",
    "    \n"
   ]
  },
  {
   "cell_type": "markdown",
   "id": "ac257dc8",
   "metadata": {},
   "source": [
    "2. Scrape the details team India’s international fixtures from bcci.tv.\n",
    "Url = https://www.bcci.tv/.\n",
    "You need to find following details:\n",
    "A) Match title (I.e. 1\n",
    "st ODI)\n",
    "B) Series\n",
    "C) Place\n",
    "D) Date\n",
    "E) Time"
   ]
  },
  {
   "cell_type": "code",
   "execution_count": 29,
   "id": "61b090b4",
   "metadata": {},
   "outputs": [
    {
     "name": "stderr",
     "output_type": "stream",
     "text": [
      "<ipython-input-29-5ba4b5dd1529>:2: DeprecationWarning: executable_path has been deprecated, please pass in a Service object\n",
      "  driver=webdriver.Chrome(\"chromedriver.exe\")\n"
     ]
    }
   ],
   "source": [
    "# Activating the chrome browser\n",
    "driver=webdriver.Chrome(\"chromedriver.exe\") \n",
    "time.sleep(3)\n",
    "\n",
    "# Opening the homepage of Amazon.in\n",
    "url = \"https://www.bcci.tv/\"\n",
    "driver.get(url)\n",
    "\n",
    "time.sleep(2)"
   ]
  },
  {
   "cell_type": "code",
   "execution_count": 30,
   "id": "909fea2d",
   "metadata": {},
   "outputs": [
    {
     "name": "stderr",
     "output_type": "stream",
     "text": [
      "<ipython-input-30-f0d79daae651>:1: DeprecationWarning: find_element_by_class_name is deprecated. Please use find_element(by=By.CLASS_NAME, value=name) instead\n",
      "  search_bar=driver.find_element_by_class_name(\"nav-link\")\n"
     ]
    }
   ],
   "source": [
    "search_bar=driver.find_element_by_class_name(\"nav-link\")"
   ]
  },
  {
   "cell_type": "code",
   "execution_count": 31,
   "id": "c5cf5526",
   "metadata": {},
   "outputs": [],
   "source": [
    "search_bar.click()"
   ]
  },
  {
   "cell_type": "code",
   "execution_count": 32,
   "id": "d453278f",
   "metadata": {},
   "outputs": [
    {
     "name": "stderr",
     "output_type": "stream",
     "text": [
      "<ipython-input-32-f20174730f65>:9: DeprecationWarning: find_elements_by_xpath is deprecated. Please use find_elements(by=By.XPATH, value=xpath) instead\n",
      "  like = driver.find_elements_by_xpath(\"//span[@class='ng-binding']\")\n",
      "<ipython-input-32-f20174730f65>:15: DeprecationWarning: find_elements_by_xpath is deprecated. Please use find_elements(by=By.XPATH, value=xpath) instead\n",
      "  place = driver.find_elements_by_xpath(\"//span[@class='ng-binding ng-scope']\")\n",
      "<ipython-input-32-f20174730f65>:20: DeprecationWarning: find_elements_by_xpath is deprecated. Please use find_elements(by=By.XPATH, value=xpath) instead\n",
      "  date = driver.find_elements_by_xpath(\"//div[@class='match-card-left match-schedule']\")\n",
      "<ipython-input-32-f20174730f65>:25: DeprecationWarning: find_elements_by_xpath is deprecated. Please use find_elements(by=By.XPATH, value=xpath) instead\n",
      "  time_Mtch = driver.find_elements_by_xpath(\"//h5[@class='text-right ng-binding']\")\n"
     ]
    },
    {
     "data": {
      "text/html": [
       "<div>\n",
       "<style scoped>\n",
       "    .dataframe tbody tr th:only-of-type {\n",
       "        vertical-align: middle;\n",
       "    }\n",
       "\n",
       "    .dataframe tbody tr th {\n",
       "        vertical-align: top;\n",
       "    }\n",
       "\n",
       "    .dataframe thead th {\n",
       "        text-align: right;\n",
       "    }\n",
       "</style>\n",
       "<table border=\"1\" class=\"dataframe\">\n",
       "  <thead>\n",
       "    <tr style=\"text-align: right;\">\n",
       "      <th></th>\n",
       "      <th>MATCH TITLE</th>\n",
       "      <th>PLACE</th>\n",
       "      <th>DATE</th>\n",
       "      <th>TIME</th>\n",
       "    </tr>\n",
       "  </thead>\n",
       "  <tbody>\n",
       "    <tr>\n",
       "      <th>0</th>\n",
       "      <td>SOUTH AFRICA TOUR OF INDIA T20 SERIES 2022</td>\n",
       "      <td>Arun Jaitley Stadium,</td>\n",
       "      <td>9 JUN 2022</td>\n",
       "      <td>7:30 PM IST</td>\n",
       "    </tr>\n",
       "    <tr>\n",
       "      <th>1</th>\n",
       "      <td>SOUTH AFRICA TOUR OF INDIA T20 SERIES 2022</td>\n",
       "      <td>Barabati Stadium,</td>\n",
       "      <td>12 JUN 2022</td>\n",
       "      <td>7:30 PM IST</td>\n",
       "    </tr>\n",
       "    <tr>\n",
       "      <th>2</th>\n",
       "      <td>SOUTH AFRICA TOUR OF INDIA T20 SERIES 2022</td>\n",
       "      <td>Dr YS Rajasekhara Reddy ACA-VDCA Cricket Stadium,</td>\n",
       "      <td>14 JUN 2022</td>\n",
       "      <td>7:30 PM IST</td>\n",
       "    </tr>\n",
       "    <tr>\n",
       "      <th>3</th>\n",
       "      <td>SOUTH AFRICA TOUR OF INDIA T20 SERIES 2022</td>\n",
       "      <td>Saurashtra Cricket Association Stadium,</td>\n",
       "      <td>17 JUN 2022</td>\n",
       "      <td>7:30 PM IST</td>\n",
       "    </tr>\n",
       "    <tr>\n",
       "      <th>4</th>\n",
       "      <td>SOUTH AFRICA TOUR OF INDIA T20 SERIES 2022</td>\n",
       "      <td>M Chinnaswamy Stadium,</td>\n",
       "      <td>19 JUN 2022</td>\n",
       "      <td>7:30 PM IST</td>\n",
       "    </tr>\n",
       "  </tbody>\n",
       "</table>\n",
       "</div>"
      ],
      "text/plain": [
       "                                  MATCH TITLE  \\\n",
       "0  SOUTH AFRICA TOUR OF INDIA T20 SERIES 2022   \n",
       "1  SOUTH AFRICA TOUR OF INDIA T20 SERIES 2022   \n",
       "2  SOUTH AFRICA TOUR OF INDIA T20 SERIES 2022   \n",
       "3  SOUTH AFRICA TOUR OF INDIA T20 SERIES 2022   \n",
       "4  SOUTH AFRICA TOUR OF INDIA T20 SERIES 2022   \n",
       "\n",
       "                                               PLACE         DATE         TIME  \n",
       "0                              Arun Jaitley Stadium,   9 JUN 2022  7:30 PM IST  \n",
       "1                                  Barabati Stadium,  12 JUN 2022  7:30 PM IST  \n",
       "2  Dr YS Rajasekhara Reddy ACA-VDCA Cricket Stadium,  14 JUN 2022  7:30 PM IST  \n",
       "3            Saurashtra Cricket Association Stadium,  17 JUN 2022  7:30 PM IST  \n",
       "4                             M Chinnaswamy Stadium,  19 JUN 2022  7:30 PM IST  "
      ]
     },
     "execution_count": 32,
     "metadata": {},
     "output_type": "execute_result"
    }
   ],
   "source": [
    "#creating empty sets\n",
    "Match_title=[]\n",
    "Place=[]\n",
    "Date=[]\n",
    "Time=[]\n",
    "\n",
    "#scrape Match title\n",
    "\n",
    "like = driver.find_elements_by_xpath(\"//span[@class='ng-binding']\")\n",
    "for i in like:\n",
    "    Match_title.append(i.text)\n",
    "    \n",
    "    \n",
    "#scrape Place\n",
    "place = driver.find_elements_by_xpath(\"//span[@class='ng-binding ng-scope']\")\n",
    "for i in place:\n",
    "    Place.append(i.text)\n",
    "    \n",
    "#scrape Date\n",
    "date = driver.find_elements_by_xpath(\"//div[@class='match-card-left match-schedule']\")\n",
    "for i in date:\n",
    "    Date.append(i.text)\n",
    "    \n",
    "#Scrape Time\n",
    "time_Mtch = driver.find_elements_by_xpath(\"//h5[@class='text-right ng-binding']\")\n",
    "for i in time_Mtch:\n",
    "    Time.append(i.text) \n",
    "    \n",
    "#creating dataframe\n",
    "df=pd.DataFrame({'MATCH TITLE':Match_title,\n",
    "                'PLACE':Place,\n",
    "                'DATE':Date,\n",
    "                'TIME':Time})\n",
    "df\n",
    "    \n",
    "    "
   ]
  },
  {
   "cell_type": "code",
   "execution_count": null,
   "id": "29269d30",
   "metadata": {},
   "outputs": [],
   "source": []
  },
  {
   "cell_type": "markdown",
   "id": "359746c8",
   "metadata": {},
   "source": [
    "3. Scrape the details of selenium exception from guru99.com.\n",
    "Url = https://www.guru99.com/\n",
    "You need to find following details:\n",
    "A) Name\n",
    "B) Description\n",
    "Note: - From guru99 home page you have to reach to selenium exception handling page through code"
   ]
  },
  {
   "cell_type": "code",
   "execution_count": 33,
   "id": "0ee16721",
   "metadata": {},
   "outputs": [
    {
     "name": "stderr",
     "output_type": "stream",
     "text": [
      "<ipython-input-33-bfe67e8e648e>:2: DeprecationWarning: executable_path has been deprecated, please pass in a Service object\n",
      "  driver=webdriver.Chrome(\"chromedriver.exe\")\n"
     ]
    }
   ],
   "source": [
    "# Activating the chrome browser\n",
    "driver=webdriver.Chrome(\"chromedriver.exe\") \n",
    "\n",
    "\n",
    "# Opening the homepage of Amazon.in\n",
    "url = \"https://www.guru99.com/\"\n",
    "driver.get(url)\n",
    "\n",
    "time.sleep(2)"
   ]
  },
  {
   "cell_type": "code",
   "execution_count": null,
   "id": "349573b6",
   "metadata": {},
   "outputs": [],
   "source": [
    "Name=[]\n",
    "description_note=[]\n",
    "#scrape Name\n",
    "\n",
    "name = driver.find_elements_by_xpath(\"//span[@class='ng-binding']\")\n",
    "for i in name:\n",
    "    Name.append(i.text)\n",
    "    \n",
    "    \n",
    "#scrape Description note\n",
    "desc = driver.find_elements_by_xpath(\"//span[@class='ng-binding ng-scope']\")\n",
    "for i in desc:\n",
    "    descrption_note.append(i.text)"
   ]
  },
  {
   "cell_type": "markdown",
   "id": "4b86abf4",
   "metadata": {},
   "source": [
    "4. Scrape the details of State-wise GDP of India from statisticstime.com.\n",
    "Url = http://statisticstimes.com/\n",
    "You have to find following details:\n",
    "A) Rank\n",
    "B) State\n",
    "C) GSDP(18-19)\n",
    "D) GSDP(17-18)\n",
    "E) Share(2017)\n",
    "F) GDP($ billion)\n",
    "Note: - From statisticstimes home page you have to reach to economy page through code"
   ]
  },
  {
   "cell_type": "code",
   "execution_count": 59,
   "id": "18ab4bb0",
   "metadata": {},
   "outputs": [
    {
     "name": "stderr",
     "output_type": "stream",
     "text": [
      "<ipython-input-59-3dffd40a0d02>:2: DeprecationWarning: executable_path has been deprecated, please pass in a Service object\n",
      "  driver=webdriver.Chrome(\"chromedriver.exe\")\n"
     ]
    }
   ],
   "source": [
    "# Activating the chrome browser\n",
    "driver=webdriver.Chrome(\"chromedriver.exe\") \n",
    "time.sleep(3)\n",
    "\n",
    "# Opening the homepage of Amazon.in\n",
    "url = \"http://statisticstimes.com/\"\n",
    "driver.get(url)\n",
    "\n",
    "time.sleep(2)"
   ]
  },
  {
   "cell_type": "code",
   "execution_count": 60,
   "id": "b59ec7b2",
   "metadata": {},
   "outputs": [
    {
     "name": "stderr",
     "output_type": "stream",
     "text": [
      "<ipython-input-60-4ce752fbf64b>:1: DeprecationWarning: find_element_by_class_name is deprecated. Please use find_element(by=By.CLASS_NAME, value=name) instead\n",
      "  search_bar=driver.find_element_by_class_name(\"more\")\n"
     ]
    }
   ],
   "source": [
    "search_bar=driver.find_element_by_class_name(\"more\")\n",
    "search_bar.click()"
   ]
  },
  {
   "cell_type": "code",
   "execution_count": null,
   "id": "e8fd047a",
   "metadata": {},
   "outputs": [],
   "source": []
  },
  {
   "cell_type": "code",
   "execution_count": 61,
   "id": "0fa6db47",
   "metadata": {},
   "outputs": [
    {
     "name": "stderr",
     "output_type": "stream",
     "text": [
      "<ipython-input-61-51a34a3bd673>:10: DeprecationWarning: find_elements_by_xpath is deprecated. Please use find_elements(by=By.XPATH, value=xpath) instead\n",
      "  country = driver.find_elements_by_xpath('/html/body/div[3]/div[2]/div[5]/div[1]/div/table/tbody/tr[1]/td[1]/a')\n",
      "<ipython-input-61-51a34a3bd673>:16: DeprecationWarning: find_elements_by_xpath is deprecated. Please use find_elements(by=By.XPATH, value=xpath) instead\n",
      "  GDP_2020 = driver.find_elements_by_xpath(\"//td[@class='data sorting_1']\")\n",
      "<ipython-input-61-51a34a3bd673>:21: DeprecationWarning: find_elements_by_xpath is deprecated. Please use find_elements(by=By.XPATH, value=xpath) instead\n",
      "  GDP_2021 = driver.find_elements_by_xpath('/html/body/div[3]/div[2]/div[5]/div[1]/div/table/tbody/tr[1]/td[4]')\n",
      "<ipython-input-61-51a34a3bd673>:26: DeprecationWarning: find_elements_by_xpath is deprecated. Please use find_elements(by=By.XPATH, value=xpath) instead\n",
      "  rank= driver.find_elements_by_xpath('/html/body/div[3]/div[2]/div[5]/div[1]/div/table/tbody/tr[1]/td[3]')\n"
     ]
    }
   ],
   "source": [
    "#creating empty sets\n",
    "Country=[]\n",
    "GDP2020=[]\n",
    "Rank=[]\n",
    "GDP2021=[]\n",
    "Continent=[]\n",
    "\n",
    "#scrape Country\n",
    "\n",
    "country = driver.find_elements_by_xpath('/html/body/div[3]/div[2]/div[5]/div[1]/div/table/tbody/tr[1]/td[1]/a')\n",
    "for i in country:\n",
    "    Country.append(i.text)\n",
    "    \n",
    "    \n",
    "#scrape GDP2020\n",
    "GDP_2020 = driver.find_elements_by_xpath(\"//td[@class='data sorting_1']\")\n",
    "for i in GDP_2020:\n",
    "    GDP2020.append(i.text)\n",
    "    \n",
    "#scrape GDP_2021\n",
    "GDP_2021 = driver.find_elements_by_xpath('/html/body/div[3]/div[2]/div[5]/div[1]/div/table/tbody/tr[1]/td[4]')\n",
    "for i in GDP_2021:\n",
    "    GDP2021.append(i.text)\n",
    "    \n",
    "#Scrape Time\n",
    "rank= driver.find_elements_by_xpath('/html/body/div[3]/div[2]/div[5]/div[1]/div/table/tbody/tr[1]/td[3]')\n",
    "for i in rank:\n",
    "    Rank.append(i.text) "
   ]
  },
  {
   "cell_type": "markdown",
   "id": "7febd710",
   "metadata": {},
   "source": [
    "5. Scrape the details of trending repositories on Github.com.\n",
    "Url = https://github.com/\n",
    "You have to find the following details:\n",
    "A) Repository title\n",
    "B) Repository description\n",
    "C) Contributors count\n",
    "D) Language used"
   ]
  },
  {
   "cell_type": "code",
   "execution_count": 74,
   "id": "0b179060",
   "metadata": {},
   "outputs": [
    {
     "name": "stderr",
     "output_type": "stream",
     "text": [
      "<ipython-input-74-99adf422998d>:2: DeprecationWarning: executable_path has been deprecated, please pass in a Service object\n",
      "  driver=webdriver.Chrome(\"chromedriver.exe\")\n"
     ]
    }
   ],
   "source": [
    "# Activating the chrome browser\n",
    "driver=webdriver.Chrome(\"chromedriver.exe\") \n",
    "time.sleep(3)\n",
    "\n",
    "# Opening the homepage of Amazon.in\n",
    "url = \"https://github.com/\"\n",
    "driver.get(url)\n",
    "\n",
    "time.sleep(2)"
   ]
  },
  {
   "cell_type": "code",
   "execution_count": 76,
   "id": "9a782dc4",
   "metadata": {},
   "outputs": [
    {
     "name": "stderr",
     "output_type": "stream",
     "text": [
      "<ipython-input-76-b963d5e018d6>:9: DeprecationWarning: find_elements_by_xpath is deprecated. Please use find_elements(by=By.XPATH, value=xpath) instead\n",
      "  title= driver.find_elements_by_xpath(\"//span[@class='text-normal']\")\n",
      "<ipython-input-76-b963d5e018d6>:15: DeprecationWarning: find_elements_by_xpath is deprecated. Please use find_elements(by=By.XPATH, value=xpath) instead\n",
      "  desc = driver.find_elements_by_xpath(\"//p[@class='col-9 color-fg-muted my-1 pr-4']\")\n",
      "<ipython-input-76-b963d5e018d6>:20: DeprecationWarning: find_elements_by_xpath is deprecated. Please use find_elements(by=By.XPATH, value=xpath) instead\n",
      "  count = driver.find_elements_by_xpath(\"//a[@class='Link--muted d-inline-block mr-3']\")\n",
      "<ipython-input-76-b963d5e018d6>:25: DeprecationWarning: find_elements_by_xpath is deprecated. Please use find_elements(by=By.XPATH, value=xpath) instead\n",
      "  lang = driver.find_elements_by_xpath(\"//span[@class='d-inline-block ml-0 mr-3']\")\n"
     ]
    }
   ],
   "source": [
    "#creating empty sets\n",
    "Rep_title=[]\n",
    "Rep_Desc=[]\n",
    "Contri_count=[]\n",
    "Lang=[]\n",
    "\n",
    "#scrape Repository Title\n",
    "\n",
    "title= driver.find_elements_by_xpath(\"//span[@class='text-normal']\")\n",
    "for i in title:\n",
    "    Rep_title.append(i.text)\n",
    "    \n",
    "    \n",
    "#scrape description\n",
    "desc = driver.find_elements_by_xpath(\"//p[@class='col-9 color-fg-muted my-1 pr-4']\")\n",
    "for i in desc:\n",
    "    Rep_Desc.append(i.text)\n",
    "    \n",
    "#scrape Count\n",
    "count = driver.find_elements_by_xpath(\"//a[@class='Link--muted d-inline-block mr-3']\")\n",
    "for i in count:\n",
    "    Contri_count.append(i.text)\n",
    "    \n",
    "#Scrape Language\n",
    "lang = driver.find_elements_by_xpath(\"//span[@class='d-inline-block ml-0 mr-3']\")\n",
    "for i in lang:\n",
    "    Lang.append(i.text) "
   ]
  },
  {
   "cell_type": "code",
   "execution_count": 83,
   "id": "eb12859c",
   "metadata": {},
   "outputs": [
    {
     "data": {
      "text/html": [
       "<div>\n",
       "<style scoped>\n",
       "    .dataframe tbody tr th:only-of-type {\n",
       "        vertical-align: middle;\n",
       "    }\n",
       "\n",
       "    .dataframe tbody tr th {\n",
       "        vertical-align: top;\n",
       "    }\n",
       "\n",
       "    .dataframe thead th {\n",
       "        text-align: right;\n",
       "    }\n",
       "</style>\n",
       "<table border=\"1\" class=\"dataframe\">\n",
       "  <thead>\n",
       "    <tr style=\"text-align: right;\">\n",
       "      <th></th>\n",
       "      <th>Repository Title</th>\n",
       "      <th>Repository Description</th>\n",
       "      <th>Contributors count</th>\n",
       "      <th>Langauge</th>\n",
       "    </tr>\n",
       "  </thead>\n",
       "  <tbody>\n",
       "    <tr>\n",
       "      <th>0</th>\n",
       "      <td>facebookresearch /</td>\n",
       "      <td>Repo for external large-scale work</td>\n",
       "      <td>1,538</td>\n",
       "      <td>Python</td>\n",
       "    </tr>\n",
       "    <tr>\n",
       "      <th>1</th>\n",
       "      <td>education /</td>\n",
       "      <td>Join the GitHub Graduation Yearbook and \"walk ...</td>\n",
       "      <td>119</td>\n",
       "      <td>JavaScript</td>\n",
       "    </tr>\n",
       "    <tr>\n",
       "      <th>2</th>\n",
       "      <td>freeCodeCamp /</td>\n",
       "      <td>freeCodeCamp.org's open-source codebase and cu...</td>\n",
       "      <td>435</td>\n",
       "      <td>TypeScript</td>\n",
       "    </tr>\n",
       "    <tr>\n",
       "      <th>3</th>\n",
       "      <td>scottbez1 /</td>\n",
       "      <td>Haptic input knob with software-defined endsto...</td>\n",
       "      <td>2,873</td>\n",
       "      <td>C++</td>\n",
       "    </tr>\n",
       "    <tr>\n",
       "      <th>4</th>\n",
       "      <td>microsoft /</td>\n",
       "      <td>Windows system utilities to maximize productivity</td>\n",
       "      <td>345,437</td>\n",
       "      <td>C#</td>\n",
       "    </tr>\n",
       "    <tr>\n",
       "      <th>5</th>\n",
       "      <td>pyscript /</td>\n",
       "      <td>This repo contain the syllabus of the Hugging ...</td>\n",
       "      <td>28,593</td>\n",
       "      <td>JavaScript</td>\n",
       "    </tr>\n",
       "    <tr>\n",
       "      <th>6</th>\n",
       "      <td>huggingface /</td>\n",
       "      <td>Repository containing the game data for the ga...</td>\n",
       "      <td>9,031</td>\n",
       "      <td>Jupyter Notebook</td>\n",
       "    </tr>\n",
       "    <tr>\n",
       "      <th>7</th>\n",
       "      <td>Dimbreath /</td>\n",
       "      <td>Digital Forensics Guide</td>\n",
       "      <td>455</td>\n",
       "      <td>Python</td>\n",
       "    </tr>\n",
       "    <tr>\n",
       "      <th>8</th>\n",
       "      <td>mikeroyal /</td>\n",
       "      <td>A server software reimplementation for a certa...</td>\n",
       "      <td>72,491</td>\n",
       "      <td>Java</td>\n",
       "    </tr>\n",
       "    <tr>\n",
       "      <th>9</th>\n",
       "      <td>Grasscutters /</td>\n",
       "      <td>12 weeks, 26 lessons, 52 quizzes, classic Mach...</td>\n",
       "      <td>4,096</td>\n",
       "      <td>Jupyter Notebook</td>\n",
       "    </tr>\n",
       "    <tr>\n",
       "      <th>10</th>\n",
       "      <td>microsoft /</td>\n",
       "      <td>The Modern Data Stack 🐰 — Directus is an insta...</td>\n",
       "      <td>6,407</td>\n",
       "      <td>TypeScript</td>\n",
       "    </tr>\n",
       "    <tr>\n",
       "      <th>11</th>\n",
       "      <td>directus /</td>\n",
       "      <td>Python notebooks with ML and deep learning exa...</td>\n",
       "      <td>350</td>\n",
       "      <td>Jupyter Notebook</td>\n",
       "    </tr>\n",
       "    <tr>\n",
       "      <th>12</th>\n",
       "      <td>Azure /</td>\n",
       "      <td>🎮 Referências para Game Designers.</td>\n",
       "      <td>775</td>\n",
       "      <td>Rust</td>\n",
       "    </tr>\n",
       "    <tr>\n",
       "      <th>13</th>\n",
       "      <td>baptixta /</td>\n",
       "      <td>📚 免费的计算机编程类中文书籍，欢迎投稿</td>\n",
       "      <td>61</td>\n",
       "      <td>Shell</td>\n",
       "    </tr>\n",
       "    <tr>\n",
       "      <th>14</th>\n",
       "      <td>justjavac /</td>\n",
       "      <td>This repository contains .NET Documentation.</td>\n",
       "      <td>908</td>\n",
       "      <td>JavaScript</td>\n",
       "    </tr>\n",
       "    <tr>\n",
       "      <th>15</th>\n",
       "      <td>dotnet /</td>\n",
       "      <td>A layer 1 for everyone!</td>\n",
       "      <td>327</td>\n",
       "      <td>Shell</td>\n",
       "    </tr>\n",
       "    <tr>\n",
       "      <th>16</th>\n",
       "      <td>aptos-labs /</td>\n",
       "      <td>SteamOS 3 (Holo) archiso configuration</td>\n",
       "      <td>222</td>\n",
       "      <td>C#</td>\n",
       "    </tr>\n",
       "    <tr>\n",
       "      <th>17</th>\n",
       "      <td>bhaiest /</td>\n",
       "      <td>Docker container for managing Nginx proxy host...</td>\n",
       "      <td>17</td>\n",
       "      <td>Python</td>\n",
       "    </tr>\n",
       "    <tr>\n",
       "      <th>18</th>\n",
       "      <td>NginxProxyManager /</td>\n",
       "      <td>Azure Quickstart Templates</td>\n",
       "      <td>4,572</td>\n",
       "      <td>JavaScript</td>\n",
       "    </tr>\n",
       "    <tr>\n",
       "      <th>19</th>\n",
       "      <td>Azure /</td>\n",
       "      <td>CVNets: A library for training computer vision...</td>\n",
       "      <td>1,718</td>\n",
       "      <td>PHP</td>\n",
       "    </tr>\n",
       "  </tbody>\n",
       "</table>\n",
       "</div>"
      ],
      "text/plain": [
       "       Repository Title                             Repository Description  \\\n",
       "0    facebookresearch /                 Repo for external large-scale work   \n",
       "1           education /  Join the GitHub Graduation Yearbook and \"walk ...   \n",
       "2        freeCodeCamp /  freeCodeCamp.org's open-source codebase and cu...   \n",
       "3           scottbez1 /  Haptic input knob with software-defined endsto...   \n",
       "4           microsoft /  Windows system utilities to maximize productivity   \n",
       "5            pyscript /  This repo contain the syllabus of the Hugging ...   \n",
       "6         huggingface /  Repository containing the game data for the ga...   \n",
       "7           Dimbreath /                            Digital Forensics Guide   \n",
       "8           mikeroyal /  A server software reimplementation for a certa...   \n",
       "9        Grasscutters /  12 weeks, 26 lessons, 52 quizzes, classic Mach...   \n",
       "10          microsoft /  The Modern Data Stack 🐰 — Directus is an insta...   \n",
       "11           directus /  Python notebooks with ML and deep learning exa...   \n",
       "12              Azure /                 🎮 Referências para Game Designers.   \n",
       "13           baptixta /                               📚 免费的计算机编程类中文书籍，欢迎投稿   \n",
       "14          justjavac /       This repository contains .NET Documentation.   \n",
       "15             dotnet /                            A layer 1 for everyone!   \n",
       "16         aptos-labs /             SteamOS 3 (Holo) archiso configuration   \n",
       "17            bhaiest /  Docker container for managing Nginx proxy host...   \n",
       "18  NginxProxyManager /                         Azure Quickstart Templates   \n",
       "19              Azure /  CVNets: A library for training computer vision...   \n",
       "\n",
       "   Contributors count          Langauge  \n",
       "0               1,538            Python  \n",
       "1                 119        JavaScript  \n",
       "2                 435        TypeScript  \n",
       "3               2,873               C++  \n",
       "4             345,437                C#  \n",
       "5              28,593        JavaScript  \n",
       "6               9,031  Jupyter Notebook  \n",
       "7                 455            Python  \n",
       "8              72,491              Java  \n",
       "9               4,096  Jupyter Notebook  \n",
       "10              6,407        TypeScript  \n",
       "11                350  Jupyter Notebook  \n",
       "12                775              Rust  \n",
       "13                 61             Shell  \n",
       "14                908        JavaScript  \n",
       "15                327             Shell  \n",
       "16                222                C#  \n",
       "17                 17            Python  \n",
       "18              4,572        JavaScript  \n",
       "19              1,718               PHP  "
      ]
     },
     "execution_count": 83,
     "metadata": {},
     "output_type": "execute_result"
    }
   ],
   "source": [
    "#creating dataframe\n",
    "df=pd.DataFrame({'Repository Title':Rep_title[:20],\n",
    "                'Repository Description':Rep_Desc[:20],\n",
    "                'Contributors count':Contri_count[:20],\n",
    "                'Langauge':Lang[:20]})\n",
    "df"
   ]
  },
  {
   "cell_type": "code",
   "execution_count": null,
   "id": "409a363f",
   "metadata": {},
   "outputs": [],
   "source": []
  },
  {
   "cell_type": "markdown",
   "id": "2e7fe592",
   "metadata": {},
   "source": [
    "6. Scrape the details of top 100 songs on billiboard.com.\n",
    "Url = https:/www.billboard.com/\n",
    "You have to find the following details:\n",
    "A) Song name\n",
    "B) Artist name\n",
    "C) Last week rank\n",
    "D) Peak rank\n",
    "E) Weeks on board\n",
    "Note: - From the home page you have to click on the charts option then hot 100-page link through code."
   ]
  },
  {
   "cell_type": "code",
   "execution_count": null,
   "id": "85f396a5",
   "metadata": {},
   "outputs": [],
   "source": [
    "# Activating the chrome browser\n",
    "driver=webdriver.Chrome(\"chromedriver.exe\") \n",
    "time.sleep(3)\n",
    "\n",
    "# Opening the homepage of Amazon.in\n",
    "url = \"https:/www.billboard.com/\"\n",
    "driver.get(url)\n",
    "\n",
    "time.sleep(2)"
   ]
  },
  {
   "cell_type": "markdown",
   "id": "ef2b0d12",
   "metadata": {},
   "source": [
    "7. Scrape the details of Data science recruiters from naukri.com.\n",
    "Url = https://www.naukri.com/\n",
    "You have to find the following details:\n",
    "A) Name\n",
    "B) Designation\n",
    "C) Company\n",
    "D) Skills they hire for\n",
    "E) Location\n",
    "Note: - From naukri.com homepage click on the recruiters option and the on the search pane type Data science and\n",
    "click on search. All this should be done through code"
   ]
  },
  {
   "cell_type": "code",
   "execution_count": 48,
   "id": "165a42ba",
   "metadata": {},
   "outputs": [],
   "source": [
    "url = \"https://www.naukri.com/\"\n",
    "driver.get(url)"
   ]
  },
  {
   "cell_type": "code",
   "execution_count": 49,
   "id": "235ebda7",
   "metadata": {},
   "outputs": [
    {
     "name": "stderr",
     "output_type": "stream",
     "text": [
      "<ipython-input-49-ecd98b93254c>:2: DeprecationWarning: find_element_by_class_name is deprecated. Please use find_element(by=By.CLASS_NAME, value=name) instead\n",
      "  search_field_designation=driver.find_element_by_class_name(\"suggestor-input \") #job search bar\n",
      "<ipython-input-49-ecd98b93254c>:3: DeprecationWarning: find_element_by_xpath is deprecated. Please use find_element(by=By.XPATH, value=xpath) instead\n",
      "  search_field_location=driver.find_element_by_xpath('/html/body/div/div[2]/div[3]/div/div/div[3]/div/div/div/input') #location search bar\n",
      "<ipython-input-49-ecd98b93254c>:9: DeprecationWarning: find_element_by_xpath is deprecated. Please use find_element(by=By.XPATH, value=xpath) instead\n",
      "  search_button=driver.find_element_by_xpath(\"/html/body/div/div[2]/div[3]/div/div/div[6]\")\n",
      "<ipython-input-49-ecd98b93254c>:21: DeprecationWarning: find_elements_by_xpath is deprecated. Please use find_elements(by=By.XPATH, value=xpath) instead\n",
      "  titles=driver.find_elements_by_xpath(\"//a[@class='title fw500 ellipsis']\")\n",
      "<ipython-input-49-ecd98b93254c>:30: DeprecationWarning: find_elements_by_xpath is deprecated. Please use find_elements(by=By.XPATH, value=xpath) instead\n",
      "  locations=driver.find_elements_by_xpath(\"//li[@class='fleft grey-text br2 placeHolderLi location']/span[1]\")\n",
      "<ipython-input-49-ecd98b93254c>:39: DeprecationWarning: find_elements_by_xpath is deprecated. Please use find_elements(by=By.XPATH, value=xpath) instead\n",
      "  companies=driver.find_elements_by_xpath(\"//div[@class='mt-7 companyInfo subheading lh16']/a\")\n",
      "<ipython-input-49-ecd98b93254c>:50: DeprecationWarning: find_elements_by_xpath is deprecated. Please use find_elements(by=By.XPATH, value=xpath) instead\n",
      "  experience=driver.find_elements_by_xpath(\"//li[@class='fleft grey-text br2 placeHolderLi experience']/span[1]\")\n"
     ]
    },
    {
     "data": {
      "text/html": [
       "<div>\n",
       "<style scoped>\n",
       "    .dataframe tbody tr th:only-of-type {\n",
       "        vertical-align: middle;\n",
       "    }\n",
       "\n",
       "    .dataframe tbody tr th {\n",
       "        vertical-align: top;\n",
       "    }\n",
       "\n",
       "    .dataframe thead th {\n",
       "        text-align: right;\n",
       "    }\n",
       "</style>\n",
       "<table border=\"1\" class=\"dataframe\">\n",
       "  <thead>\n",
       "    <tr style=\"text-align: right;\">\n",
       "      <th></th>\n",
       "      <th>experience_required</th>\n",
       "      <th>company_name</th>\n",
       "      <th>job_location</th>\n",
       "      <th>job_title</th>\n",
       "    </tr>\n",
       "  </thead>\n",
       "  <tbody>\n",
       "    <tr>\n",
       "      <th>0</th>\n",
       "      <td>0-5 Yrs</td>\n",
       "      <td>CAREERDOST ENTERPRISE</td>\n",
       "      <td>Bangalore/Bengaluru</td>\n",
       "      <td>Business and Data Analyst</td>\n",
       "    </tr>\n",
       "    <tr>\n",
       "      <th>1</th>\n",
       "      <td>7-12 Yrs</td>\n",
       "      <td>Capco</td>\n",
       "      <td>Pune, Gurgaon/Gurugram, Chennai, Bangalore/Ben...</td>\n",
       "      <td>Senior Data Analyst</td>\n",
       "    </tr>\n",
       "    <tr>\n",
       "      <th>2</th>\n",
       "      <td>3-7 Yrs</td>\n",
       "      <td>(157 Reviews)</td>\n",
       "      <td>Bangalore/Bengaluru</td>\n",
       "      <td>Senior Data Analyst</td>\n",
       "    </tr>\n",
       "    <tr>\n",
       "      <th>3</th>\n",
       "      <td>0-2 Yrs</td>\n",
       "      <td>Gsn Games India</td>\n",
       "      <td>Bangalore/Bengaluru</td>\n",
       "      <td>Jr . Data Analyst</td>\n",
       "    </tr>\n",
       "    <tr>\n",
       "      <th>4</th>\n",
       "      <td>4-7 Yrs</td>\n",
       "      <td>(14 Reviews)</td>\n",
       "      <td>Bangalore/Bengaluru(Jayanagar)</td>\n",
       "      <td>Data Analyst</td>\n",
       "    </tr>\n",
       "    <tr>\n",
       "      <th>5</th>\n",
       "      <td>7-10 Yrs</td>\n",
       "      <td>Armorblox</td>\n",
       "      <td>Bangalore/Bengaluru</td>\n",
       "      <td>Hiring For Data Analyst with SAP ABAP &amp; BW - C...</td>\n",
       "    </tr>\n",
       "    <tr>\n",
       "      <th>6</th>\n",
       "      <td>1-4 Yrs</td>\n",
       "      <td>G S E-COMMERCE PVT LTD</td>\n",
       "      <td>Bangalore/Bengaluru</td>\n",
       "      <td>Officer - Category Demand Management ( Data An...</td>\n",
       "    </tr>\n",
       "    <tr>\n",
       "      <th>7</th>\n",
       "      <td>5-8 Yrs</td>\n",
       "      <td>(50 Reviews)</td>\n",
       "      <td>Bangalore/Bengaluru</td>\n",
       "      <td>Software Technologist II - Data Analyst</td>\n",
       "    </tr>\n",
       "    <tr>\n",
       "      <th>8</th>\n",
       "      <td>2-7 Yrs</td>\n",
       "      <td>MILLION MINDS INFOTECH PRIVATE LIMITED</td>\n",
       "      <td>Bangalore/Bengaluru, Delhi / NCR, Mumbai (All ...</td>\n",
       "      <td>SAS Analyst / data Analyst / Business analyst ...</td>\n",
       "    </tr>\n",
       "    <tr>\n",
       "      <th>9</th>\n",
       "      <td>6-10 Yrs</td>\n",
       "      <td>(3 Reviews)</td>\n",
       "      <td>Hyderabad/Secunderabad, Pune, Chennai, Bangalo...</td>\n",
       "      <td>Sr Data Analyst</td>\n",
       "    </tr>\n",
       "  </tbody>\n",
       "</table>\n",
       "</div>"
      ],
      "text/plain": [
       "  experience_required                            company_name  \\\n",
       "0             0-5 Yrs                   CAREERDOST ENTERPRISE   \n",
       "1            7-12 Yrs                                   Capco   \n",
       "2             3-7 Yrs                           (157 Reviews)   \n",
       "3             0-2 Yrs                         Gsn Games India   \n",
       "4             4-7 Yrs                            (14 Reviews)   \n",
       "5            7-10 Yrs                               Armorblox   \n",
       "6             1-4 Yrs                  G S E-COMMERCE PVT LTD   \n",
       "7             5-8 Yrs                            (50 Reviews)   \n",
       "8             2-7 Yrs  MILLION MINDS INFOTECH PRIVATE LIMITED   \n",
       "9            6-10 Yrs                             (3 Reviews)   \n",
       "\n",
       "                                        job_location  \\\n",
       "0                                Bangalore/Bengaluru   \n",
       "1  Pune, Gurgaon/Gurugram, Chennai, Bangalore/Ben...   \n",
       "2                                Bangalore/Bengaluru   \n",
       "3                                Bangalore/Bengaluru   \n",
       "4                     Bangalore/Bengaluru(Jayanagar)   \n",
       "5                                Bangalore/Bengaluru   \n",
       "6                                Bangalore/Bengaluru   \n",
       "7                                Bangalore/Bengaluru   \n",
       "8  Bangalore/Bengaluru, Delhi / NCR, Mumbai (All ...   \n",
       "9  Hyderabad/Secunderabad, Pune, Chennai, Bangalo...   \n",
       "\n",
       "                                           job_title  \n",
       "0                          Business and Data Analyst  \n",
       "1                                Senior Data Analyst  \n",
       "2                                Senior Data Analyst  \n",
       "3                                  Jr . Data Analyst  \n",
       "4                                       Data Analyst  \n",
       "5  Hiring For Data Analyst with SAP ABAP & BW - C...  \n",
       "6  Officer - Category Demand Management ( Data An...  \n",
       "7            Software Technologist II - Data Analyst  \n",
       "8  SAS Analyst / data Analyst / Business analyst ...  \n",
       "9                                    Sr Data Analyst  "
      ]
     },
     "execution_count": 49,
     "metadata": {},
     "output_type": "execute_result"
    }
   ],
   "source": [
    "# entering “Data Analyst” in “Skill,Designations,Companies” field and enter “Bangalore” in “enter the location” field.\n",
    "search_field_designation=driver.find_element_by_class_name(\"suggestor-input \") #job search bar\n",
    "search_field_location=driver.find_element_by_xpath('/html/body/div/div[2]/div[3]/div/div/div[3]/div/div/div/input') #location search bar\n",
    "search_field_designation.send_keys(\"Data Analyst\")\n",
    "search_field_location.send_keys(\"Bangalore\")\n",
    "\n",
    "\n",
    "# clicking the search button\n",
    "search_button=driver.find_element_by_xpath(\"/html/body/div/div[2]/div[3]/div/div/div[6]\")\n",
    "search_button.click()\n",
    "\n",
    "time.sleep(4)\n",
    "\n",
    "# creating empty lists for scraping data\n",
    "job_title=[]\n",
    "job_location=[]\n",
    "company_name=[]\n",
    "experience_required=[]\n",
    "\n",
    "#scraping the job-titles\n",
    "titles=driver.find_elements_by_xpath(\"//a[@class='title fw500 ellipsis']\")\n",
    "for i in titles:\n",
    "    if i.text is None :\n",
    "        job_title.append(\"--\") \n",
    "    else:\n",
    "        job_title.append(i.text)\n",
    "\n",
    "time.sleep(4)\n",
    "#scraping the job-location\n",
    "locations=driver.find_elements_by_xpath(\"//li[@class='fleft grey-text br2 placeHolderLi location']/span[1]\")\n",
    "for i in locations:\n",
    "    if i.text is None :\n",
    "        job_location.append(\"--\") \n",
    "    else:\n",
    "        job_location.append(i.text)\n",
    "        \n",
    "time.sleep(4)        \n",
    "#scraping the company_name \n",
    "companies=driver.find_elements_by_xpath(\"//div[@class='mt-7 companyInfo subheading lh16']/a\")\n",
    "for i in companies:\n",
    "    if i.text is None :\n",
    "        company_name.append(\"--\") \n",
    "    else:\n",
    "        company_name.append(i.text)\n",
    "company_name[0:2]\n",
    "\n",
    "\n",
    "time.sleep(4)\n",
    "#scraping the experience_required \n",
    "experience=driver.find_elements_by_xpath(\"//li[@class='fleft grey-text br2 placeHolderLi experience']/span[1]\")\n",
    "for i in experience:\n",
    "    if i.text is None :\n",
    "            experience_required.append(\"--\") \n",
    "    else:\n",
    "            experience_required.append(i.text)\n",
    "\n",
    "\n",
    "time.sleep(4)\n",
    "# creating the dataframe from the scraped data and taking only first 10 jobs\n",
    "df=pd.DataFrame({\"experience_required\":experience_required[0:10],\"company_name\":company_name[0:10],\"job_location\":job_location[0:10],\n",
    "                \"job_title\":job_title[0:10]})\n",
    "df\n",
    "    "
   ]
  },
  {
   "cell_type": "markdown",
   "id": "59039045",
   "metadata": {},
   "source": [
    "8. Scrape the details of Highest selling novels.\n",
    "Url = https://www.theguardian.com/news/datablog/2012/aug/09/best-selling-books-all-time-fifty-shades-greycompare/\n",
    "You have to find the following details:\n",
    "A) Book name\n",
    "B) Author name\n",
    "C) Volumes sold\n",
    "D) Publisher\n",
    "E) Genre\n"
   ]
  },
  {
   "cell_type": "code",
   "execution_count": 72,
   "id": "3e0d96c8",
   "metadata": {},
   "outputs": [
    {
     "name": "stderr",
     "output_type": "stream",
     "text": [
      "<ipython-input-72-a45fab4c2889>:2: DeprecationWarning: executable_path has been deprecated, please pass in a Service object\n",
      "  driver=webdriver.Chrome(\"chromedriver.exe\")\n"
     ]
    }
   ],
   "source": [
    "# Activating the chrome browser\n",
    "driver=webdriver.Chrome(\"chromedriver.exe\") \n",
    "time.sleep(3)\n",
    "\n",
    "# Opening the homepage of Amazon.in\n",
    "url = \"https://www.theguardian.com/news/datablog/2012/aug/09/best-selling-books-all-time-fifty-shades-greycompare/\"\n",
    "driver.get(url)\n",
    "\n",
    "time.sleep(2)"
   ]
  },
  {
   "cell_type": "code",
   "execution_count": 73,
   "id": "352e29ab",
   "metadata": {},
   "outputs": [],
   "source": [
    "#Sir it's showing Page not found for this question"
   ]
  },
  {
   "cell_type": "code",
   "execution_count": null,
   "id": "7fa278f5",
   "metadata": {},
   "outputs": [],
   "source": []
  },
  {
   "cell_type": "markdown",
   "id": "279b6218",
   "metadata": {},
   "source": [
    "9. Scrape the details most watched tv series of all time from imdb.com.\n",
    "Url = https://www.imdb.com/list/ls095964455/\n",
    "You have to find the following details:\n",
    "A) Name\n",
    "B) Year span\n",
    "C) Genre\n",
    "D) Run time\n",
    "E) Ratings\n",
    "F) Votes"
   ]
  },
  {
   "cell_type": "code",
   "execution_count": 69,
   "id": "3fae6097",
   "metadata": {},
   "outputs": [
    {
     "name": "stderr",
     "output_type": "stream",
     "text": [
      "<ipython-input-69-fa6c5aed41df>:2: DeprecationWarning: executable_path has been deprecated, please pass in a Service object\n",
      "  driver=webdriver.Chrome(\"chromedriver.exe\")\n"
     ]
    }
   ],
   "source": [
    "# Activating the chrome browser\n",
    "driver=webdriver.Chrome(\"chromedriver.exe\") \n",
    "time.sleep(3)\n",
    "\n",
    "# Opening the homepage of Amazon.in\n",
    "url = \"https://www.imdb.com/list/ls095964455/\"\n",
    "driver.get(url)\n",
    "\n",
    "time.sleep(2)"
   ]
  },
  {
   "cell_type": "code",
   "execution_count": 71,
   "id": "21329dde",
   "metadata": {},
   "outputs": [
    {
     "data": {
      "text/html": [
       "<div>\n",
       "<style scoped>\n",
       "    .dataframe tbody tr th:only-of-type {\n",
       "        vertical-align: middle;\n",
       "    }\n",
       "\n",
       "    .dataframe tbody tr th {\n",
       "        vertical-align: top;\n",
       "    }\n",
       "\n",
       "    .dataframe thead th {\n",
       "        text-align: right;\n",
       "    }\n",
       "</style>\n",
       "<table border=\"1\" class=\"dataframe\">\n",
       "  <thead>\n",
       "    <tr style=\"text-align: right;\">\n",
       "      <th></th>\n",
       "      <th>movies_name</th>\n",
       "      <th>year_of_release</th>\n",
       "      <th>IMDB_rating</th>\n",
       "    </tr>\n",
       "  </thead>\n",
       "  <tbody>\n",
       "    <tr>\n",
       "      <th>0</th>\n",
       "      <td>Game of Thrones</td>\n",
       "      <td>2011–2019</td>\n",
       "      <td>9.2</td>\n",
       "    </tr>\n",
       "    <tr>\n",
       "      <th>1</th>\n",
       "      <td>Stranger Things</td>\n",
       "      <td>2016–</td>\n",
       "      <td>8.7</td>\n",
       "    </tr>\n",
       "    <tr>\n",
       "      <th>2</th>\n",
       "      <td>The Walking Dead</td>\n",
       "      <td>2010–2022</td>\n",
       "      <td>8.2</td>\n",
       "    </tr>\n",
       "    <tr>\n",
       "      <th>3</th>\n",
       "      <td>13 Reasons Why</td>\n",
       "      <td>2017–2020</td>\n",
       "      <td>7.5</td>\n",
       "    </tr>\n",
       "    <tr>\n",
       "      <th>4</th>\n",
       "      <td>The 100</td>\n",
       "      <td>2014–2020</td>\n",
       "      <td>7.6</td>\n",
       "    </tr>\n",
       "    <tr>\n",
       "      <th>...</th>\n",
       "      <td>...</td>\n",
       "      <td>...</td>\n",
       "      <td>...</td>\n",
       "    </tr>\n",
       "    <tr>\n",
       "      <th>95</th>\n",
       "      <td>Reign</td>\n",
       "      <td>2013–2017</td>\n",
       "      <td>7.4</td>\n",
       "    </tr>\n",
       "    <tr>\n",
       "      <th>96</th>\n",
       "      <td>A Series of Unfortunate Events</td>\n",
       "      <td>2017–2019</td>\n",
       "      <td>7.8</td>\n",
       "    </tr>\n",
       "    <tr>\n",
       "      <th>97</th>\n",
       "      <td>Criminal Minds</td>\n",
       "      <td>2005–2020</td>\n",
       "      <td>8.1</td>\n",
       "    </tr>\n",
       "    <tr>\n",
       "      <th>98</th>\n",
       "      <td>Scream</td>\n",
       "      <td>2015–2019</td>\n",
       "      <td>7.1</td>\n",
       "    </tr>\n",
       "    <tr>\n",
       "      <th>99</th>\n",
       "      <td>The Haunting of Hill House</td>\n",
       "      <td>2018</td>\n",
       "      <td>8.6</td>\n",
       "    </tr>\n",
       "  </tbody>\n",
       "</table>\n",
       "<p>100 rows × 3 columns</p>\n",
       "</div>"
      ],
      "text/plain": [
       "                       movies_name year_of_release  IMDB_rating\n",
       "0                  Game of Thrones       2011–2019          9.2\n",
       "1                  Stranger Things          2016–           8.7\n",
       "2                 The Walking Dead       2010–2022          8.2\n",
       "3                   13 Reasons Why       2017–2020          7.5\n",
       "4                          The 100       2014–2020          7.6\n",
       "..                             ...             ...          ...\n",
       "95                           Reign       2013–2017          7.4\n",
       "96  A Series of Unfortunate Events       2017–2019          7.8\n",
       "97                  Criminal Minds       2005–2020          8.1\n",
       "98                          Scream       2015–2019          7.1\n",
       "99      The Haunting of Hill House            2018          8.6\n",
       "\n",
       "[100 rows x 3 columns]"
      ]
     },
     "execution_count": 71,
     "metadata": {},
     "output_type": "execute_result"
    }
   ],
   "source": [
    "#send get request to the webpage server to get the source code of the page\n",
    "url = \"https://www.imdb.com/list/ls095964455/\"\n",
    "page3 = requests.get(url)\n",
    "\n",
    "# check the page content\n",
    "soup3 = BeautifulSoup(page3.content)\n",
    "\n",
    "# top Movies name\n",
    "name = soup3.find_all(\"h3\", class_=\"lister-item-header\")\n",
    "# get text from movie name web elements\n",
    "movies_name = [] #empty list\n",
    "for i in name:\n",
    "    for j in i.find_all(\"a\"):\n",
    "        movies_name.append(j.text)\n",
    "\n",
    "\n",
    "# Year of release\n",
    "year = soup3.find_all(\"span\",class_=\"lister-item-year text-muted unbold\")\n",
    "year_of_release = [] #empty list\n",
    "\n",
    "for k in year:\n",
    "    a=k.text.replace('(','')\n",
    "    year_of_release.append(a.replace(')','')) \n",
    "    \n",
    "\n",
    "# IMDB Rating\n",
    "rating = soup3.find_all(\"div\",class_=\"ipl-rating-star small\")\n",
    "\n",
    "# scrape text from rating web element\n",
    "IMDB_rating = [] #empty list\n",
    "for i in rating:\n",
    "      IMDB_rating.append(float(i.text))\n",
    "# Make data frame of top 100 India imdb movies\n",
    "indian_top_100=pd.DataFrame({})\n",
    "indian_top_100['movies_name']=movies_name\n",
    "indian_top_100['year_of_release']=year_of_release\n",
    "indian_top_100['IMDB_rating']=IMDB_rating\n",
    "indian_top_100    "
   ]
  },
  {
   "cell_type": "code",
   "execution_count": null,
   "id": "7039a3d5",
   "metadata": {},
   "outputs": [],
   "source": []
  },
  {
   "cell_type": "code",
   "execution_count": null,
   "id": "75c7c245",
   "metadata": {},
   "outputs": [],
   "source": []
  },
  {
   "cell_type": "markdown",
   "id": "85017ed1",
   "metadata": {},
   "source": [
    "10. Details of Datasets from UCI machine learning repositories.\n",
    "Url = https://archive.ics.uci.edu/\n",
    "You have to find the following details:\n",
    "A) Dataset name\n",
    "B) Data type\n",
    "C) Task\n",
    "D) Attribute type\n",
    "E) No of instances\n",
    "F) No of attribute\n",
    "G) Year\n",
    "Note: - from the home page you have to go to the ShowAllDataset page through code."
   ]
  },
  {
   "cell_type": "code",
   "execution_count": 63,
   "id": "ffa059f3",
   "metadata": {},
   "outputs": [
    {
     "name": "stderr",
     "output_type": "stream",
     "text": [
      "<ipython-input-63-0b141cc1e121>:2: DeprecationWarning: executable_path has been deprecated, please pass in a Service object\n",
      "  driver=webdriver.Chrome(\"chromedriver.exe\")\n"
     ]
    }
   ],
   "source": [
    "# Activating the chrome browser\n",
    "driver=webdriver.Chrome(\"chromedriver.exe\") \n",
    "time.sleep(3)\n",
    "\n",
    "# Opening the homepage of Amazon.in\n",
    "url = \"https://archive.ics.uci.edu/\"\n",
    "driver.get(url)\n",
    "\n",
    "time.sleep(2)"
   ]
  },
  {
   "cell_type": "code",
   "execution_count": 64,
   "id": "eed3924f",
   "metadata": {},
   "outputs": [
    {
     "name": "stderr",
     "output_type": "stream",
     "text": [
      "<ipython-input-64-a939c0290faf>:1: DeprecationWarning: find_element_by_class_name is deprecated. Please use find_element(by=By.CLASS_NAME, value=name) instead\n",
      "  search_alldata=driver.find_element_by_class_name(\"whitetext\")\n"
     ]
    }
   ],
   "source": [
    "search_alldata=driver.find_element_by_class_name(\"whitetext\")\n",
    "search_alldata.click()"
   ]
  },
  {
   "cell_type": "code",
   "execution_count": 67,
   "id": "cbf3df04",
   "metadata": {},
   "outputs": [
    {
     "name": "stderr",
     "output_type": "stream",
     "text": [
      "<ipython-input-67-b7a38b9985a0>:13: DeprecationWarning: find_elements_by_xpath is deprecated. Please use find_elements(by=By.XPATH, value=xpath) instead\n",
      "  Data_set = driver.find_elements_by_xpath('/html/body/table[2]/tbody/tr/td[2]/table[2]/tbody/tr[2]/td[1]/table/tbody/tr/td[2]/p')\n"
     ]
    }
   ],
   "source": [
    "#creating empty sets\n",
    "Data_set_name=[]\n",
    "Data_type=[]\n",
    "Task=[]\n",
    "Att_type=[]\n",
    "No_of_instances=[]\n",
    "No_of_attributes=[]\n",
    "Year=[]\n",
    "\n",
    "\n",
    "#scrape Data set name\n",
    "\n",
    "Data_set = driver.find_elements_by_xpath('/html/body/table[2]/tbody/tr/td[2]/table[2]/tbody/tr[2]/td[1]/table/tbody/tr/td[2]/p')\n",
    "for i in Data_set:\n",
    "    Data_set_name.append(i.text)\n",
    "    \n",
    "Data = driver.find_elements_by_xpath('/html/body/table[2]/tbody/tr/td[2]/table[2]/tbody/tr[2]/td[1]/table/tbody/tr/td[2]/p')\n",
    "for i in Data:\n",
    "    Data_type.append(i.text)\n",
    "    \n",
    "task = driver.find_elements_by_xpath('/html/body/table[2]/tbody/tr/td[2]/table[2]/tbody/tr[2]/td[1]/table/tbody/tr/td[2]/p')\n",
    "for i in task:\n",
    "    Task.append(i.text)\n",
    "    \n",
    "Att= driver.find_elements_by_xpath('/html/body/table[2]/tbody/tr/td[2]/table[2]/tbody/tr[2]/td[1]/table/tbody/tr/td[2]/p')\n",
    "for i in Att:\n",
    "    Att_type.append(i.text)\n",
    "    \n",
    "year = driver.find_elements_by_xpath('/html/body/table[2]/tbody/tr/td[2]/table[2]/tbody/tr[2]/td[1]/table/tbody/tr/td[2]/p')\n",
    "for i in year:\n",
    "    Year_type.append(i.text)"
   ]
  },
  {
   "cell_type": "code",
   "execution_count": null,
   "id": "9c36d904",
   "metadata": {},
   "outputs": [],
   "source": []
  },
  {
   "cell_type": "code",
   "execution_count": null,
   "id": "f2d8f0da",
   "metadata": {},
   "outputs": [],
   "source": []
  },
  {
   "cell_type": "code",
   "execution_count": null,
   "id": "809aa5ed",
   "metadata": {},
   "outputs": [],
   "source": []
  },
  {
   "cell_type": "code",
   "execution_count": null,
   "id": "3e6286c1",
   "metadata": {},
   "outputs": [],
   "source": []
  },
  {
   "cell_type": "code",
   "execution_count": null,
   "id": "8d3790ba",
   "metadata": {},
   "outputs": [],
   "source": []
  },
  {
   "cell_type": "code",
   "execution_count": null,
   "id": "3a5cedd6",
   "metadata": {},
   "outputs": [],
   "source": []
  },
  {
   "cell_type": "code",
   "execution_count": null,
   "id": "494d92d0",
   "metadata": {},
   "outputs": [],
   "source": []
  },
  {
   "cell_type": "code",
   "execution_count": null,
   "id": "b15e4eb4",
   "metadata": {},
   "outputs": [],
   "source": []
  },
  {
   "cell_type": "code",
   "execution_count": null,
   "id": "4861435c",
   "metadata": {},
   "outputs": [],
   "source": []
  },
  {
   "cell_type": "code",
   "execution_count": null,
   "id": "4c640d3d",
   "metadata": {},
   "outputs": [],
   "source": []
  },
  {
   "cell_type": "code",
   "execution_count": null,
   "id": "425fb8b2",
   "metadata": {},
   "outputs": [],
   "source": []
  },
  {
   "cell_type": "code",
   "execution_count": null,
   "id": "e5795ab5",
   "metadata": {},
   "outputs": [],
   "source": []
  },
  {
   "cell_type": "code",
   "execution_count": null,
   "id": "424f9756",
   "metadata": {},
   "outputs": [],
   "source": []
  },
  {
   "cell_type": "code",
   "execution_count": null,
   "id": "bc450a18",
   "metadata": {},
   "outputs": [],
   "source": []
  },
  {
   "cell_type": "code",
   "execution_count": null,
   "id": "df74b674",
   "metadata": {},
   "outputs": [],
   "source": []
  },
  {
   "cell_type": "code",
   "execution_count": null,
   "id": "1a7437d5",
   "metadata": {},
   "outputs": [],
   "source": []
  },
  {
   "cell_type": "code",
   "execution_count": null,
   "id": "abb75dd9",
   "metadata": {},
   "outputs": [],
   "source": []
  },
  {
   "cell_type": "code",
   "execution_count": null,
   "id": "b57b764b",
   "metadata": {},
   "outputs": [],
   "source": []
  },
  {
   "cell_type": "code",
   "execution_count": 12,
   "id": "218311a5",
   "metadata": {},
   "outputs": [
    {
     "data": {
      "text/plain": [
       "5"
      ]
     },
     "execution_count": 12,
     "metadata": {},
     "output_type": "execute_result"
    }
   ],
   "source": []
  },
  {
   "cell_type": "code",
   "execution_count": null,
   "id": "45083c57",
   "metadata": {},
   "outputs": [],
   "source": []
  },
  {
   "cell_type": "code",
   "execution_count": null,
   "id": "5ea66c51",
   "metadata": {},
   "outputs": [],
   "source": []
  },
  {
   "cell_type": "code",
   "execution_count": null,
   "id": "dd582e4b",
   "metadata": {},
   "outputs": [],
   "source": []
  },
  {
   "cell_type": "code",
   "execution_count": null,
   "id": "3d545812",
   "metadata": {},
   "outputs": [],
   "source": []
  },
  {
   "cell_type": "code",
   "execution_count": null,
   "id": "bf5d8e99",
   "metadata": {},
   "outputs": [],
   "source": []
  }
 ],
 "metadata": {
  "kernelspec": {
   "display_name": "Python 3",
   "language": "python",
   "name": "python3"
  },
  "language_info": {
   "codemirror_mode": {
    "name": "ipython",
    "version": 3
   },
   "file_extension": ".py",
   "mimetype": "text/x-python",
   "name": "python",
   "nbconvert_exporter": "python",
   "pygments_lexer": "ipython3",
   "version": "3.8.8"
  }
 },
 "nbformat": 4,
 "nbformat_minor": 5
}

{
 "cells": [
  {
   "cell_type": "code",
   "execution_count": 3,
   "id": "65fc9058",
   "metadata": {},
   "outputs": [],
   "source": [
    "from bs4 import BeautifulSoup\n",
    "import requests\n",
    "page= requests.get('https://www.nobroker.in/property/rent/hyderabad/multiple?searchParam=W3sibGF0IjoxNy40NDc0NDc1LCJsb24iOjc4LjM1NjkyNzUsInBsYWNlSWQiOiJDaElKZzVwcF9KU1R5enNSaHBYNzU2M2VkX2ciLCJwbGFjZU5hbWUiOiJJbmRpcmEgTmFnYXIifSx7ImxhdCI6MTcuNTAwMDcyOCwibG9uIjo3OC40MDUxOTU5OTk5OTk5OSwicGxhY2VJZCI6IkNoSUpzWEZxb3VtUnl6c1JiWlZ5ZGVqMkdKSSIsInBsYWNlTmFtZSI6IkpheWFuYWdhciBDb2xvbnkifV0=&radius=2.0&sharedAccomodation=0&city=hyderabad&locality=Indira%20Nagar,&locality=Jayanagar%20Colony')\n",
    "soup=BeautifulSoup(page.content)\n",
    "\n",
    "house=[]   \n",
    "for i in soup.find_all('span',class_=\"overflow-hidden overflow-ellipsis whitespace-nowrap max-w-80pe po:max-w-full\"):\n",
    "    house.append(i.text)\n",
    "    \n",
    "location=[]   \n",
    "for i in soup.find_all('div',class_=\"mt-0.5p overflow-hidden overflow-ellipsis whitespace-nowrap max-w-70 text-gray-light leading-4 po:mb-0 po:max-w-95\"):\n",
    "    location.append(i.text)\n",
    "    \n",
    "    \n",
    "area=[]   \n",
    "for i in soup.find_all('div',class_=\"flex\"):\n",
    "    area.append(i.text)\n",
    "    \n",
    "    \n",
    "emi=[]   \n",
    "for i in soup.find_all('div',class_=\"font-semi-bold heading-6\"):\n",
    "    emi.append(i.text)\n",
    "    \n",
    "price=[]   \n",
    "for i in soup.find_all('div',class_=\"flex\"):\n",
    "    price.append(i.text)\n",
    "    \n",
    "    \n"
   ]
  },
  {
   "cell_type": "code",
   "execution_count": null,
   "id": "dfabb935",
   "metadata": {},
   "outputs": [],
   "source": []
  },
  {
   "cell_type": "code",
   "execution_count": null,
   "id": "363a48ab",
   "metadata": {},
   "outputs": [],
   "source": []
  }
 ],
 "metadata": {
  "kernelspec": {
   "display_name": "Python 3",
   "language": "python",
   "name": "python3"
  },
  "language_info": {
   "codemirror_mode": {
    "name": "ipython",
    "version": 3
   },
   "file_extension": ".py",
   "mimetype": "text/x-python",
   "name": "python",
   "nbconvert_exporter": "python",
   "pygments_lexer": "ipython3",
   "version": "3.8.8"
  }
 },
 "nbformat": 4,
 "nbformat_minor": 5
}

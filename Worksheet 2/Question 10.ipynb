{
 "cells": [
  {
   "cell_type": "code",
   "execution_count": 5,
   "id": "1a520acd",
   "metadata": {},
   "outputs": [
    {
     "name": "stdout",
     "output_type": "stream",
     "text": [
      "10 10 10\n"
     ]
    },
    {
     "data": {
      "text/html": [
       "<div>\n",
       "<style scoped>\n",
       "    .dataframe tbody tr th:only-of-type {\n",
       "        vertical-align: middle;\n",
       "    }\n",
       "\n",
       "    .dataframe tbody tr th {\n",
       "        vertical-align: top;\n",
       "    }\n",
       "\n",
       "    .dataframe thead th {\n",
       "        text-align: right;\n",
       "    }\n",
       "</style>\n",
       "<table border=\"1\" class=\"dataframe\">\n",
       "  <thead>\n",
       "    <tr style=\"text-align: right;\">\n",
       "      <th></th>\n",
       "      <th>PRODUCT NAME</th>\n",
       "      <th>PRICE</th>\n",
       "    </tr>\n",
       "  </thead>\n",
       "  <tbody>\n",
       "    <tr>\n",
       "      <th>0</th>\n",
       "      <td>LAST SIZES LEFT - SPECIAL PRICE</td>\n",
       "      <td>₹ 299</td>\n",
       "    </tr>\n",
       "    <tr>\n",
       "      <th>1</th>\n",
       "      <td>Slim fit</td>\n",
       "      <td>₹ 349</td>\n",
       "    </tr>\n",
       "    <tr>\n",
       "      <th>2</th>\n",
       "      <td>LAST SIZES LEFT - SPECIAL PRICE</td>\n",
       "      <td>₹ 199</td>\n",
       "    </tr>\n",
       "    <tr>\n",
       "      <th>3</th>\n",
       "      <td>LAST SIZES LEFT - SPECIAL PRICE</td>\n",
       "      <td>₹ 199</td>\n",
       "    </tr>\n",
       "    <tr>\n",
       "      <th>4</th>\n",
       "      <td>LAST SIZES LEFT - SPECIAL PRICE</td>\n",
       "      <td>₹ 299</td>\n",
       "    </tr>\n",
       "    <tr>\n",
       "      <th>5</th>\n",
       "      <td>LAST SIZES LEFT - SPECIAL PRICE</td>\n",
       "      <td>₹ 299</td>\n",
       "    </tr>\n",
       "    <tr>\n",
       "      <th>6</th>\n",
       "      <td>LAST SIZES LEFT - SPECIAL PRICE</td>\n",
       "      <td>₹ 249</td>\n",
       "    </tr>\n",
       "    <tr>\n",
       "      <th>7</th>\n",
       "      <td>LAST SIZES LEFT - SPECIAL PRICE</td>\n",
       "      <td>₹ 199</td>\n",
       "    </tr>\n",
       "    <tr>\n",
       "      <th>8</th>\n",
       "      <td>LAST SIZES LEFT - SPECIAL PRICE</td>\n",
       "      <td>₹ 199</td>\n",
       "    </tr>\n",
       "    <tr>\n",
       "      <th>9</th>\n",
       "      <td>Slim fit</td>\n",
       "      <td>₹ 349</td>\n",
       "    </tr>\n",
       "  </tbody>\n",
       "</table>\n",
       "</div>"
      ],
      "text/plain": [
       "                      PRODUCT NAME  PRICE\n",
       "0  LAST SIZES LEFT - SPECIAL PRICE  ₹ 299\n",
       "1                         Slim fit  ₹ 349\n",
       "2  LAST SIZES LEFT - SPECIAL PRICE  ₹ 199\n",
       "3  LAST SIZES LEFT - SPECIAL PRICE  ₹ 199\n",
       "4  LAST SIZES LEFT - SPECIAL PRICE  ₹ 299\n",
       "5  LAST SIZES LEFT - SPECIAL PRICE  ₹ 299\n",
       "6  LAST SIZES LEFT - SPECIAL PRICE  ₹ 249\n",
       "7  LAST SIZES LEFT - SPECIAL PRICE  ₹ 199\n",
       "8  LAST SIZES LEFT - SPECIAL PRICE  ₹ 199\n",
       "9                         Slim fit  ₹ 349"
      ]
     },
     "execution_count": 5,
     "metadata": {},
     "output_type": "execute_result"
    }
   ],
   "source": [
    "from bs4 import BeautifulSoup\n",
    "import requests\n",
    "page= requests.get('https://www.bewakoof.com/women-tshirts?ga_q=tshirts')\n",
    "soup=BeautifulSoup(page.content)\n",
    "name =[]\n",
    "for i in soup.find_all('div',class_=\"productTypeBox\"):\n",
    "    name.append(i.text)\n",
    "    \n",
    "    \n",
    "price =[]\n",
    "for i in soup.find_all('span',class_=\"discountedPriceText\"):\n",
    "    price.append(i.text)\n",
    "    \n",
    "  \n",
    "image=[]\n",
    "for i in soup.find_all(\"img\",class_=\"productImgTag\"):\n",
    "    image.append(i.text)\n",
    "    \n",
    "    \n",
    "print(len(name),len(price),len(image))\n",
    "     \n",
    "#making a data frame\n",
    "import pandas as pd\n",
    "df= pd.DataFrame({'PRODUCT NAME':name,'PRICE':price})\n",
    "df   "
   ]
  },
  {
   "cell_type": "code",
   "execution_count": null,
   "id": "7ca06a50",
   "metadata": {},
   "outputs": [],
   "source": []
  },
  {
   "cell_type": "code",
   "execution_count": null,
   "id": "9fda4a75",
   "metadata": {},
   "outputs": [],
   "source": []
  },
  {
   "cell_type": "code",
   "execution_count": null,
   "id": "52c3393e",
   "metadata": {},
   "outputs": [],
   "source": []
  },
  {
   "cell_type": "code",
   "execution_count": null,
   "id": "baebf038",
   "metadata": {},
   "outputs": [],
   "source": []
  },
  {
   "cell_type": "code",
   "execution_count": null,
   "id": "ec795bcc",
   "metadata": {},
   "outputs": [],
   "source": []
  }
 ],
 "metadata": {
  "kernelspec": {
   "display_name": "Python 3",
   "language": "python",
   "name": "python3"
  },
  "language_info": {
   "codemirror_mode": {
    "name": "ipython",
    "version": 3
   },
   "file_extension": ".py",
   "mimetype": "text/x-python",
   "name": "python",
   "nbconvert_exporter": "python",
   "pygments_lexer": "ipython3",
   "version": "3.8.8"
  }
 },
 "nbformat": 4,
 "nbformat_minor": 5
}
